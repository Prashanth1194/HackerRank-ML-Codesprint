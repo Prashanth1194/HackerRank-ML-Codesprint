{
 "cells": [
  {
   "cell_type": "code",
   "execution_count": 1,
   "metadata": {
    "collapsed": true
   },
   "outputs": [],
   "source": [
    "from pandasql import sqldf\n",
    "pysqldf = lambda q: sqldf(q, globals())\n",
    "import pandas as pd\n",
    "import numpy as np"
   ]
  },
  {
   "cell_type": "code",
   "execution_count": 20,
   "metadata": {
    "collapsed": true
   },
   "outputs": [],
   "source": [
    "sub = pd.read_csv(\"E:/HackerRank/Contest/Recommendation/submissions.csv\")"
   ]
  },
  {
   "cell_type": "code",
   "execution_count": 21,
   "metadata": {
    "collapsed": false
   },
   "outputs": [
    {
     "data": {
      "text/html": [
       "<div>\n",
       "<table border=\"1\" class=\"dataframe\">\n",
       "  <thead>\n",
       "    <tr style=\"text-align: right;\">\n",
       "      <th></th>\n",
       "      <th>hacker_id</th>\n",
       "      <th>contest_id</th>\n",
       "      <th>challenge_id</th>\n",
       "      <th>language</th>\n",
       "      <th>solved</th>\n",
       "      <th>created_at</th>\n",
       "    </tr>\n",
       "  </thead>\n",
       "  <tbody>\n",
       "    <tr>\n",
       "      <th>0</th>\n",
       "      <td>56d47667c6a9242e</td>\n",
       "      <td>c8ff662c97d345d2</td>\n",
       "      <td>6d95afeb4d968b91</td>\n",
       "      <td>java</td>\n",
       "      <td>0</td>\n",
       "      <td>2011-08-07 00:36:53 UTC</td>\n",
       "    </tr>\n",
       "    <tr>\n",
       "      <th>1</th>\n",
       "      <td>56d47667c6a9242e</td>\n",
       "      <td>c8ff662c97d345d2</td>\n",
       "      <td>6d95afeb4d968b91</td>\n",
       "      <td>java</td>\n",
       "      <td>0</td>\n",
       "      <td>2011-08-07 00:38:45 UTC</td>\n",
       "    </tr>\n",
       "    <tr>\n",
       "      <th>2</th>\n",
       "      <td>56d47667c6a9242e</td>\n",
       "      <td>c8ff662c97d345d2</td>\n",
       "      <td>6d95afeb4d968b91</td>\n",
       "      <td>java</td>\n",
       "      <td>0</td>\n",
       "      <td>2011-08-07 00:43:49 UTC</td>\n",
       "    </tr>\n",
       "    <tr>\n",
       "      <th>3</th>\n",
       "      <td>56d47667c6a9242e</td>\n",
       "      <td>c8ff662c97d345d2</td>\n",
       "      <td>6d95afeb4d968b91</td>\n",
       "      <td>java</td>\n",
       "      <td>0</td>\n",
       "      <td>2011-08-07 00:52:34 UTC</td>\n",
       "    </tr>\n",
       "    <tr>\n",
       "      <th>4</th>\n",
       "      <td>56d47667c6a9242e</td>\n",
       "      <td>c8ff662c97d345d2</td>\n",
       "      <td>6d95afeb4d968b91</td>\n",
       "      <td>java</td>\n",
       "      <td>0</td>\n",
       "      <td>2011-08-07 00:56:52 UTC</td>\n",
       "    </tr>\n",
       "  </tbody>\n",
       "</table>\n",
       "</div>"
      ],
      "text/plain": [
       "          hacker_id        contest_id      challenge_id language  solved  \\\n",
       "0  56d47667c6a9242e  c8ff662c97d345d2  6d95afeb4d968b91     java       0   \n",
       "1  56d47667c6a9242e  c8ff662c97d345d2  6d95afeb4d968b91     java       0   \n",
       "2  56d47667c6a9242e  c8ff662c97d345d2  6d95afeb4d968b91     java       0   \n",
       "3  56d47667c6a9242e  c8ff662c97d345d2  6d95afeb4d968b91     java       0   \n",
       "4  56d47667c6a9242e  c8ff662c97d345d2  6d95afeb4d968b91     java       0   \n",
       "\n",
       "                created_at  \n",
       "0  2011-08-07 00:36:53 UTC  \n",
       "1  2011-08-07 00:38:45 UTC  \n",
       "2  2011-08-07 00:43:49 UTC  \n",
       "3  2011-08-07 00:52:34 UTC  \n",
       "4  2011-08-07 00:56:52 UTC  "
      ]
     },
     "execution_count": 21,
     "metadata": {},
     "output_type": "execute_result"
    }
   ],
   "source": [
    "sub.head()"
   ]
  },
  {
   "cell_type": "code",
   "execution_count": 8,
   "metadata": {
    "collapsed": false
   },
   "outputs": [],
   "source": [
    "t = pysqldf(\"SELECT hacker_id,challenge_id,max(solved) as Solved,min(created_at) as 'latest_unsolved' from sub where contest_id = 'c8ff662c97d345d2' group by hacker_id,challenge_id\")\n"
   ]
  },
  {
   "cell_type": "code",
   "execution_count": 11,
   "metadata": {
    "collapsed": false
   },
   "outputs": [
    {
     "data": {
      "text/html": [
       "<div>\n",
       "<table border=\"1\" class=\"dataframe\">\n",
       "  <thead>\n",
       "    <tr style=\"text-align: right;\">\n",
       "      <th></th>\n",
       "      <th>hacker_id</th>\n",
       "      <th>challenge_id</th>\n",
       "      <th>Solved</th>\n",
       "      <th>latest_unsolved</th>\n",
       "    </tr>\n",
       "  </thead>\n",
       "  <tbody>\n",
       "    <tr>\n",
       "      <th>0</th>\n",
       "      <td>00004cf8b853ad0d</td>\n",
       "      <td>08a5f5f58fe5f586</td>\n",
       "      <td>0</td>\n",
       "      <td>2014-08-23 06:47:41 UTC</td>\n",
       "    </tr>\n",
       "    <tr>\n",
       "      <th>1</th>\n",
       "      <td>00004cf8b853ad0d</td>\n",
       "      <td>3411e4e6add2b8e4</td>\n",
       "      <td>0</td>\n",
       "      <td>2014-08-23 06:46:52 UTC</td>\n",
       "    </tr>\n",
       "    <tr>\n",
       "      <th>2</th>\n",
       "      <td>00004cf8b853ad0d</td>\n",
       "      <td>366684b779574e86</td>\n",
       "      <td>0</td>\n",
       "      <td>2014-08-23 06:43:28 UTC</td>\n",
       "    </tr>\n",
       "    <tr>\n",
       "      <th>3</th>\n",
       "      <td>00004cf8b853ad0d</td>\n",
       "      <td>ab1bdad8537b85cd</td>\n",
       "      <td>0</td>\n",
       "      <td>2014-08-23 06:33:39 UTC</td>\n",
       "    </tr>\n",
       "    <tr>\n",
       "      <th>4</th>\n",
       "      <td>00004cf8b853ad0d</td>\n",
       "      <td>c3647a9292e553b9</td>\n",
       "      <td>0</td>\n",
       "      <td>2014-08-23 06:36:15 UTC</td>\n",
       "    </tr>\n",
       "  </tbody>\n",
       "</table>\n",
       "</div>"
      ],
      "text/plain": [
       "          hacker_id      challenge_id  Solved          latest_unsolved\n",
       "0  00004cf8b853ad0d  08a5f5f58fe5f586       0  2014-08-23 06:47:41 UTC\n",
       "1  00004cf8b853ad0d  3411e4e6add2b8e4       0  2014-08-23 06:46:52 UTC\n",
       "2  00004cf8b853ad0d  366684b779574e86       0  2014-08-23 06:43:28 UTC\n",
       "3  00004cf8b853ad0d  ab1bdad8537b85cd       0  2014-08-23 06:33:39 UTC\n",
       "4  00004cf8b853ad0d  c3647a9292e553b9       0  2014-08-23 06:36:15 UTC"
      ]
     },
     "execution_count": 11,
     "metadata": {},
     "output_type": "execute_result"
    }
   ],
   "source": [
    "t.head()"
   ]
  },
  {
   "cell_type": "code",
   "execution_count": 14,
   "metadata": {
    "collapsed": false
   },
   "outputs": [],
   "source": [
    "u = pysqldf(\"select hacker_id,challenge_id,Solved,min(latest_unsolved) from t where Solved =0 group by hacker_id,challenge_id\")"
   ]
  },
  {
   "cell_type": "code",
   "execution_count": 55,
   "metadata": {
    "collapsed": false
   },
   "outputs": [],
   "source": [
    "u = u[['hacker_id','challenge_id']]\n",
    "u['score'] = 0"
   ]
  },
  {
   "cell_type": "code",
   "execution_count": 56,
   "metadata": {
    "collapsed": false
   },
   "outputs": [
    {
     "data": {
      "text/html": [
       "<div>\n",
       "<table border=\"1\" class=\"dataframe\">\n",
       "  <thead>\n",
       "    <tr style=\"text-align: right;\">\n",
       "      <th></th>\n",
       "      <th>hacker_id</th>\n",
       "      <th>challenge_id</th>\n",
       "      <th>score</th>\n",
       "    </tr>\n",
       "  </thead>\n",
       "  <tbody>\n",
       "    <tr>\n",
       "      <th>0</th>\n",
       "      <td>00004cf8b853ad0d</td>\n",
       "      <td>08a5f5f58fe5f586</td>\n",
       "      <td>0</td>\n",
       "    </tr>\n",
       "    <tr>\n",
       "      <th>1</th>\n",
       "      <td>00004cf8b853ad0d</td>\n",
       "      <td>3411e4e6add2b8e4</td>\n",
       "      <td>0</td>\n",
       "    </tr>\n",
       "    <tr>\n",
       "      <th>2</th>\n",
       "      <td>00004cf8b853ad0d</td>\n",
       "      <td>366684b779574e86</td>\n",
       "      <td>0</td>\n",
       "    </tr>\n",
       "    <tr>\n",
       "      <th>3</th>\n",
       "      <td>00004cf8b853ad0d</td>\n",
       "      <td>ab1bdad8537b85cd</td>\n",
       "      <td>0</td>\n",
       "    </tr>\n",
       "    <tr>\n",
       "      <th>4</th>\n",
       "      <td>00004cf8b853ad0d</td>\n",
       "      <td>c3647a9292e553b9</td>\n",
       "      <td>0</td>\n",
       "    </tr>\n",
       "  </tbody>\n",
       "</table>\n",
       "</div>"
      ],
      "text/plain": [
       "          hacker_id      challenge_id  score\n",
       "0  00004cf8b853ad0d  08a5f5f58fe5f586      0\n",
       "1  00004cf8b853ad0d  3411e4e6add2b8e4      0\n",
       "2  00004cf8b853ad0d  366684b779574e86      0\n",
       "3  00004cf8b853ad0d  ab1bdad8537b85cd      0\n",
       "4  00004cf8b853ad0d  c3647a9292e553b9      0"
      ]
     },
     "execution_count": 56,
     "metadata": {},
     "output_type": "execute_result"
    }
   ],
   "source": [
    "u.head()"
   ]
  },
  {
   "cell_type": "code",
   "execution_count": null,
   "metadata": {
    "collapsed": false
   },
   "outputs": [],
   "source": [
    "sub.shape"
   ]
  },
  {
   "cell_type": "code",
   "execution_count": 22,
   "metadata": {
    "collapsed": true
   },
   "outputs": [],
   "source": [
    "sub1 = pysqldf(\"SELECT hacker_id,challenge_id,max(solved) as Solved from sub group by hacker_id,challenge_id\")"
   ]
  },
  {
   "cell_type": "code",
   "execution_count": 23,
   "metadata": {
    "collapsed": false
   },
   "outputs": [
    {
     "data": {
      "text/html": [
       "<div>\n",
       "<table border=\"1\" class=\"dataframe\">\n",
       "  <thead>\n",
       "    <tr style=\"text-align: right;\">\n",
       "      <th></th>\n",
       "      <th>hacker_id</th>\n",
       "      <th>challenge_id</th>\n",
       "      <th>Solved</th>\n",
       "    </tr>\n",
       "  </thead>\n",
       "  <tbody>\n",
       "    <tr>\n",
       "      <th>0</th>\n",
       "      <td>00004cf8b853ad0d</td>\n",
       "      <td>08a5f5f58fe5f586</td>\n",
       "      <td>0</td>\n",
       "    </tr>\n",
       "    <tr>\n",
       "      <th>1</th>\n",
       "      <td>00004cf8b853ad0d</td>\n",
       "      <td>3411e4e6add2b8e4</td>\n",
       "      <td>0</td>\n",
       "    </tr>\n",
       "    <tr>\n",
       "      <th>2</th>\n",
       "      <td>00004cf8b853ad0d</td>\n",
       "      <td>366684b779574e86</td>\n",
       "      <td>0</td>\n",
       "    </tr>\n",
       "    <tr>\n",
       "      <th>3</th>\n",
       "      <td>00004cf8b853ad0d</td>\n",
       "      <td>ab1bdad8537b85cd</td>\n",
       "      <td>0</td>\n",
       "    </tr>\n",
       "    <tr>\n",
       "      <th>4</th>\n",
       "      <td>00004cf8b853ad0d</td>\n",
       "      <td>c3647a9292e553b9</td>\n",
       "      <td>0</td>\n",
       "    </tr>\n",
       "    <tr>\n",
       "      <th>5</th>\n",
       "      <td>00010020d9cd62a0</td>\n",
       "      <td>14494ad91c883fa1</td>\n",
       "      <td>1</td>\n",
       "    </tr>\n",
       "    <tr>\n",
       "      <th>6</th>\n",
       "      <td>00010020d9cd62a0</td>\n",
       "      <td>1d27531abae531c3</td>\n",
       "      <td>1</td>\n",
       "    </tr>\n",
       "    <tr>\n",
       "      <th>7</th>\n",
       "      <td>00010020d9cd62a0</td>\n",
       "      <td>41612cd86f55af69</td>\n",
       "      <td>1</td>\n",
       "    </tr>\n",
       "    <tr>\n",
       "      <th>8</th>\n",
       "      <td>00010020d9cd62a0</td>\n",
       "      <td>4b89a103552ec726</td>\n",
       "      <td>1</td>\n",
       "    </tr>\n",
       "    <tr>\n",
       "      <th>9</th>\n",
       "      <td>00010020d9cd62a0</td>\n",
       "      <td>4f3620cea7a50eec</td>\n",
       "      <td>1</td>\n",
       "    </tr>\n",
       "    <tr>\n",
       "      <th>10</th>\n",
       "      <td>00010020d9cd62a0</td>\n",
       "      <td>5078a455b31e63dd</td>\n",
       "      <td>1</td>\n",
       "    </tr>\n",
       "    <tr>\n",
       "      <th>11</th>\n",
       "      <td>00010020d9cd62a0</td>\n",
       "      <td>59e33283b96c6407</td>\n",
       "      <td>1</td>\n",
       "    </tr>\n",
       "    <tr>\n",
       "      <th>12</th>\n",
       "      <td>00010020d9cd62a0</td>\n",
       "      <td>61b61212e9855b05</td>\n",
       "      <td>1</td>\n",
       "    </tr>\n",
       "    <tr>\n",
       "      <th>13</th>\n",
       "      <td>00010020d9cd62a0</td>\n",
       "      <td>6289494731c566da</td>\n",
       "      <td>1</td>\n",
       "    </tr>\n",
       "    <tr>\n",
       "      <th>14</th>\n",
       "      <td>00010020d9cd62a0</td>\n",
       "      <td>67a1b1d6367e38ea</td>\n",
       "      <td>1</td>\n",
       "    </tr>\n",
       "    <tr>\n",
       "      <th>15</th>\n",
       "      <td>00010020d9cd62a0</td>\n",
       "      <td>6ed2a6b18d1ac4e4</td>\n",
       "      <td>1</td>\n",
       "    </tr>\n",
       "    <tr>\n",
       "      <th>16</th>\n",
       "      <td>00010020d9cd62a0</td>\n",
       "      <td>72ccb69fd2fd9480</td>\n",
       "      <td>1</td>\n",
       "    </tr>\n",
       "    <tr>\n",
       "      <th>17</th>\n",
       "      <td>00010020d9cd62a0</td>\n",
       "      <td>7e92328b80237fd3</td>\n",
       "      <td>1</td>\n",
       "    </tr>\n",
       "    <tr>\n",
       "      <th>18</th>\n",
       "      <td>00010020d9cd62a0</td>\n",
       "      <td>8b770b5ac05dd2fc</td>\n",
       "      <td>1</td>\n",
       "    </tr>\n",
       "    <tr>\n",
       "      <th>19</th>\n",
       "      <td>00010020d9cd62a0</td>\n",
       "      <td>8d1046770261e25f</td>\n",
       "      <td>1</td>\n",
       "    </tr>\n",
       "    <tr>\n",
       "      <th>20</th>\n",
       "      <td>00010020d9cd62a0</td>\n",
       "      <td>92cce56cc5c0089a</td>\n",
       "      <td>1</td>\n",
       "    </tr>\n",
       "    <tr>\n",
       "      <th>21</th>\n",
       "      <td>00010020d9cd62a0</td>\n",
       "      <td>a1b75be71ebab2e8</td>\n",
       "      <td>1</td>\n",
       "    </tr>\n",
       "    <tr>\n",
       "      <th>22</th>\n",
       "      <td>00010020d9cd62a0</td>\n",
       "      <td>a86b5239a69fab6b</td>\n",
       "      <td>1</td>\n",
       "    </tr>\n",
       "    <tr>\n",
       "      <th>23</th>\n",
       "      <td>00010020d9cd62a0</td>\n",
       "      <td>c0ee18ecc06ca4d7</td>\n",
       "      <td>1</td>\n",
       "    </tr>\n",
       "    <tr>\n",
       "      <th>24</th>\n",
       "      <td>00010020d9cd62a0</td>\n",
       "      <td>c3647a9292e553b9</td>\n",
       "      <td>1</td>\n",
       "    </tr>\n",
       "    <tr>\n",
       "      <th>25</th>\n",
       "      <td>00010020d9cd62a0</td>\n",
       "      <td>c58817eb0d6b5919</td>\n",
       "      <td>1</td>\n",
       "    </tr>\n",
       "    <tr>\n",
       "      <th>26</th>\n",
       "      <td>00010020d9cd62a0</td>\n",
       "      <td>c5ec62a6613e386c</td>\n",
       "      <td>1</td>\n",
       "    </tr>\n",
       "    <tr>\n",
       "      <th>27</th>\n",
       "      <td>00010020d9cd62a0</td>\n",
       "      <td>e05e63bcccbafedb</td>\n",
       "      <td>1</td>\n",
       "    </tr>\n",
       "    <tr>\n",
       "      <th>28</th>\n",
       "      <td>00010020d9cd62a0</td>\n",
       "      <td>e6f5e45bb2f4f804</td>\n",
       "      <td>1</td>\n",
       "    </tr>\n",
       "    <tr>\n",
       "      <th>29</th>\n",
       "      <td>00010020d9cd62a0</td>\n",
       "      <td>feaaa68f9218a16a</td>\n",
       "      <td>1</td>\n",
       "    </tr>\n",
       "    <tr>\n",
       "      <th>...</th>\n",
       "      <td>...</td>\n",
       "      <td>...</td>\n",
       "      <td>...</td>\n",
       "    </tr>\n",
       "    <tr>\n",
       "      <th>157604</th>\n",
       "      <td>ffe0dff4db6deb6e</td>\n",
       "      <td>4fe2da53074027da</td>\n",
       "      <td>1</td>\n",
       "    </tr>\n",
       "    <tr>\n",
       "      <th>157605</th>\n",
       "      <td>ffe0dff4db6deb6e</td>\n",
       "      <td>7de92abeb686999e</td>\n",
       "      <td>0</td>\n",
       "    </tr>\n",
       "    <tr>\n",
       "      <th>157606</th>\n",
       "      <td>ffe0dff4db6deb6e</td>\n",
       "      <td>7e860acda8697471</td>\n",
       "      <td>1</td>\n",
       "    </tr>\n",
       "    <tr>\n",
       "      <th>157607</th>\n",
       "      <td>ffe0dff4db6deb6e</td>\n",
       "      <td>8aadf4d7f7355fb6</td>\n",
       "      <td>1</td>\n",
       "    </tr>\n",
       "    <tr>\n",
       "      <th>157608</th>\n",
       "      <td>ffe0dff4db6deb6e</td>\n",
       "      <td>9aba48565107d1ce</td>\n",
       "      <td>0</td>\n",
       "    </tr>\n",
       "    <tr>\n",
       "      <th>157609</th>\n",
       "      <td>ffe0dff4db6deb6e</td>\n",
       "      <td>9f07737834523db7</td>\n",
       "      <td>1</td>\n",
       "    </tr>\n",
       "    <tr>\n",
       "      <th>157610</th>\n",
       "      <td>ffe0dff4db6deb6e</td>\n",
       "      <td>baae1c5a760d191f</td>\n",
       "      <td>1</td>\n",
       "    </tr>\n",
       "    <tr>\n",
       "      <th>157611</th>\n",
       "      <td>ffe0dff4db6deb6e</td>\n",
       "      <td>dcb76def3ced9d7b</td>\n",
       "      <td>1</td>\n",
       "    </tr>\n",
       "    <tr>\n",
       "      <th>157612</th>\n",
       "      <td>ffe0dff4db6deb6e</td>\n",
       "      <td>f62ad414720a6b8a</td>\n",
       "      <td>1</td>\n",
       "    </tr>\n",
       "    <tr>\n",
       "      <th>157613</th>\n",
       "      <td>ffe0dff4db6deb6e</td>\n",
       "      <td>fa6ea81f8219bbf0</td>\n",
       "      <td>1</td>\n",
       "    </tr>\n",
       "    <tr>\n",
       "      <th>157614</th>\n",
       "      <td>ffe0dff4db6deb6e</td>\n",
       "      <td>fd32207d8c5795ab</td>\n",
       "      <td>1</td>\n",
       "    </tr>\n",
       "    <tr>\n",
       "      <th>157615</th>\n",
       "      <td>ffe228e656e5cbbd</td>\n",
       "      <td>10fbfe48f770e0e9</td>\n",
       "      <td>0</td>\n",
       "    </tr>\n",
       "    <tr>\n",
       "      <th>157616</th>\n",
       "      <td>ffe228e656e5cbbd</td>\n",
       "      <td>659f2ceb67eca1ef</td>\n",
       "      <td>0</td>\n",
       "    </tr>\n",
       "    <tr>\n",
       "      <th>157617</th>\n",
       "      <td>ffe228e656e5cbbd</td>\n",
       "      <td>e05e63bcccbafedb</td>\n",
       "      <td>1</td>\n",
       "    </tr>\n",
       "    <tr>\n",
       "      <th>157618</th>\n",
       "      <td>fffcfd13f3e0969d</td>\n",
       "      <td>0ea21bb9feaf46c8</td>\n",
       "      <td>1</td>\n",
       "    </tr>\n",
       "    <tr>\n",
       "      <th>157619</th>\n",
       "      <td>fffcfd13f3e0969d</td>\n",
       "      <td>26c95b75d8237f39</td>\n",
       "      <td>1</td>\n",
       "    </tr>\n",
       "    <tr>\n",
       "      <th>157620</th>\n",
       "      <td>fffcfd13f3e0969d</td>\n",
       "      <td>34386eca594b7bc2</td>\n",
       "      <td>1</td>\n",
       "    </tr>\n",
       "    <tr>\n",
       "      <th>157621</th>\n",
       "      <td>fffcfd13f3e0969d</td>\n",
       "      <td>4e07173c3bba48d2</td>\n",
       "      <td>1</td>\n",
       "    </tr>\n",
       "    <tr>\n",
       "      <th>157622</th>\n",
       "      <td>fffcfd13f3e0969d</td>\n",
       "      <td>55f8a66f057a7e76</td>\n",
       "      <td>1</td>\n",
       "    </tr>\n",
       "    <tr>\n",
       "      <th>157623</th>\n",
       "      <td>fffcfd13f3e0969d</td>\n",
       "      <td>5e85f62bcbb42ea2</td>\n",
       "      <td>1</td>\n",
       "    </tr>\n",
       "    <tr>\n",
       "      <th>157624</th>\n",
       "      <td>fffcfd13f3e0969d</td>\n",
       "      <td>6048ad1714cad1be</td>\n",
       "      <td>1</td>\n",
       "    </tr>\n",
       "    <tr>\n",
       "      <th>157625</th>\n",
       "      <td>fffcfd13f3e0969d</td>\n",
       "      <td>659f2ceb67eca1ef</td>\n",
       "      <td>0</td>\n",
       "    </tr>\n",
       "    <tr>\n",
       "      <th>157626</th>\n",
       "      <td>fffcfd13f3e0969d</td>\n",
       "      <td>6ed2a6b18d1ac4e4</td>\n",
       "      <td>1</td>\n",
       "    </tr>\n",
       "    <tr>\n",
       "      <th>157627</th>\n",
       "      <td>fffcfd13f3e0969d</td>\n",
       "      <td>76fba8ff25f765b6</td>\n",
       "      <td>1</td>\n",
       "    </tr>\n",
       "    <tr>\n",
       "      <th>157628</th>\n",
       "      <td>fffcfd13f3e0969d</td>\n",
       "      <td>7b6a8414a1e8273c</td>\n",
       "      <td>0</td>\n",
       "    </tr>\n",
       "    <tr>\n",
       "      <th>157629</th>\n",
       "      <td>fffcfd13f3e0969d</td>\n",
       "      <td>7e860acda8697471</td>\n",
       "      <td>1</td>\n",
       "    </tr>\n",
       "    <tr>\n",
       "      <th>157630</th>\n",
       "      <td>fffcfd13f3e0969d</td>\n",
       "      <td>9580a525da7618e9</td>\n",
       "      <td>1</td>\n",
       "    </tr>\n",
       "    <tr>\n",
       "      <th>157631</th>\n",
       "      <td>fffcfd13f3e0969d</td>\n",
       "      <td>b49bb8ec9c2b8481</td>\n",
       "      <td>1</td>\n",
       "    </tr>\n",
       "    <tr>\n",
       "      <th>157632</th>\n",
       "      <td>fffcfd13f3e0969d</td>\n",
       "      <td>c9713aed1d68c5b5</td>\n",
       "      <td>1</td>\n",
       "    </tr>\n",
       "    <tr>\n",
       "      <th>157633</th>\n",
       "      <td>fffcfd13f3e0969d</td>\n",
       "      <td>feb666a0b4f1d685</td>\n",
       "      <td>1</td>\n",
       "    </tr>\n",
       "  </tbody>\n",
       "</table>\n",
       "<p>157634 rows × 3 columns</p>\n",
       "</div>"
      ],
      "text/plain": [
       "               hacker_id      challenge_id  Solved\n",
       "0       00004cf8b853ad0d  08a5f5f58fe5f586       0\n",
       "1       00004cf8b853ad0d  3411e4e6add2b8e4       0\n",
       "2       00004cf8b853ad0d  366684b779574e86       0\n",
       "3       00004cf8b853ad0d  ab1bdad8537b85cd       0\n",
       "4       00004cf8b853ad0d  c3647a9292e553b9       0\n",
       "5       00010020d9cd62a0  14494ad91c883fa1       1\n",
       "6       00010020d9cd62a0  1d27531abae531c3       1\n",
       "7       00010020d9cd62a0  41612cd86f55af69       1\n",
       "8       00010020d9cd62a0  4b89a103552ec726       1\n",
       "9       00010020d9cd62a0  4f3620cea7a50eec       1\n",
       "10      00010020d9cd62a0  5078a455b31e63dd       1\n",
       "11      00010020d9cd62a0  59e33283b96c6407       1\n",
       "12      00010020d9cd62a0  61b61212e9855b05       1\n",
       "13      00010020d9cd62a0  6289494731c566da       1\n",
       "14      00010020d9cd62a0  67a1b1d6367e38ea       1\n",
       "15      00010020d9cd62a0  6ed2a6b18d1ac4e4       1\n",
       "16      00010020d9cd62a0  72ccb69fd2fd9480       1\n",
       "17      00010020d9cd62a0  7e92328b80237fd3       1\n",
       "18      00010020d9cd62a0  8b770b5ac05dd2fc       1\n",
       "19      00010020d9cd62a0  8d1046770261e25f       1\n",
       "20      00010020d9cd62a0  92cce56cc5c0089a       1\n",
       "21      00010020d9cd62a0  a1b75be71ebab2e8       1\n",
       "22      00010020d9cd62a0  a86b5239a69fab6b       1\n",
       "23      00010020d9cd62a0  c0ee18ecc06ca4d7       1\n",
       "24      00010020d9cd62a0  c3647a9292e553b9       1\n",
       "25      00010020d9cd62a0  c58817eb0d6b5919       1\n",
       "26      00010020d9cd62a0  c5ec62a6613e386c       1\n",
       "27      00010020d9cd62a0  e05e63bcccbafedb       1\n",
       "28      00010020d9cd62a0  e6f5e45bb2f4f804       1\n",
       "29      00010020d9cd62a0  feaaa68f9218a16a       1\n",
       "...                  ...               ...     ...\n",
       "157604  ffe0dff4db6deb6e  4fe2da53074027da       1\n",
       "157605  ffe0dff4db6deb6e  7de92abeb686999e       0\n",
       "157606  ffe0dff4db6deb6e  7e860acda8697471       1\n",
       "157607  ffe0dff4db6deb6e  8aadf4d7f7355fb6       1\n",
       "157608  ffe0dff4db6deb6e  9aba48565107d1ce       0\n",
       "157609  ffe0dff4db6deb6e  9f07737834523db7       1\n",
       "157610  ffe0dff4db6deb6e  baae1c5a760d191f       1\n",
       "157611  ffe0dff4db6deb6e  dcb76def3ced9d7b       1\n",
       "157612  ffe0dff4db6deb6e  f62ad414720a6b8a       1\n",
       "157613  ffe0dff4db6deb6e  fa6ea81f8219bbf0       1\n",
       "157614  ffe0dff4db6deb6e  fd32207d8c5795ab       1\n",
       "157615  ffe228e656e5cbbd  10fbfe48f770e0e9       0\n",
       "157616  ffe228e656e5cbbd  659f2ceb67eca1ef       0\n",
       "157617  ffe228e656e5cbbd  e05e63bcccbafedb       1\n",
       "157618  fffcfd13f3e0969d  0ea21bb9feaf46c8       1\n",
       "157619  fffcfd13f3e0969d  26c95b75d8237f39       1\n",
       "157620  fffcfd13f3e0969d  34386eca594b7bc2       1\n",
       "157621  fffcfd13f3e0969d  4e07173c3bba48d2       1\n",
       "157622  fffcfd13f3e0969d  55f8a66f057a7e76       1\n",
       "157623  fffcfd13f3e0969d  5e85f62bcbb42ea2       1\n",
       "157624  fffcfd13f3e0969d  6048ad1714cad1be       1\n",
       "157625  fffcfd13f3e0969d  659f2ceb67eca1ef       0\n",
       "157626  fffcfd13f3e0969d  6ed2a6b18d1ac4e4       1\n",
       "157627  fffcfd13f3e0969d  76fba8ff25f765b6       1\n",
       "157628  fffcfd13f3e0969d  7b6a8414a1e8273c       0\n",
       "157629  fffcfd13f3e0969d  7e860acda8697471       1\n",
       "157630  fffcfd13f3e0969d  9580a525da7618e9       1\n",
       "157631  fffcfd13f3e0969d  b49bb8ec9c2b8481       1\n",
       "157632  fffcfd13f3e0969d  c9713aed1d68c5b5       1\n",
       "157633  fffcfd13f3e0969d  feb666a0b4f1d685       1\n",
       "\n",
       "[157634 rows x 3 columns]"
      ]
     },
     "execution_count": 23,
     "metadata": {},
     "output_type": "execute_result"
    }
   ],
   "source": [
    "sub1"
   ]
  },
  {
   "cell_type": "code",
   "execution_count": null,
   "metadata": {
    "collapsed": true
   },
   "outputs": [],
   "source": [
    "import graphlab as gl"
   ]
  },
  {
   "cell_type": "code",
   "execution_count": null,
   "metadata": {
    "collapsed": true
   },
   "outputs": [],
   "source": [
    "sub = sub1"
   ]
  },
  {
   "cell_type": "code",
   "execution_count": null,
   "metadata": {
    "collapsed": true
   },
   "outputs": [],
   "source": [
    "df = sub[['hacker_id','challenge_id']]"
   ]
  },
  {
   "cell_type": "code",
   "execution_count": null,
   "metadata": {
    "collapsed": true
   },
   "outputs": [],
   "source": [
    "df.columns = ['user_id','item_id']\n",
    "df.head()"
   ]
  },
  {
   "cell_type": "code",
   "execution_count": null,
   "metadata": {
    "collapsed": true
   },
   "outputs": [],
   "source": [
    "sf = gl.SFrame(data=df)"
   ]
  },
  {
   "cell_type": "code",
   "execution_count": null,
   "metadata": {
    "collapsed": true
   },
   "outputs": [],
   "source": [
    "m = gl.item_similarity_recommender.create(sf,similarity_type='jaccard')"
   ]
  },
  {
   "cell_type": "code",
   "execution_count": null,
   "metadata": {
    "collapsed": true
   },
   "outputs": [],
   "source": [
    "nn = pd.DataFrame()\n",
    "nn = m.get_similar_items(k=25)"
   ]
  },
  {
   "cell_type": "code",
   "execution_count": null,
   "metadata": {
    "collapsed": true
   },
   "outputs": [],
   "source": [
    "ss = nn.to_dataframe()"
   ]
  },
  {
   "cell_type": "code",
   "execution_count": null,
   "metadata": {
    "collapsed": true
   },
   "outputs": [],
   "source": [
    "ss=ss.rename(columns={\"item_id\":\"challenge_id\"})"
   ]
  },
  {
   "cell_type": "code",
   "execution_count": null,
   "metadata": {
    "collapsed": true
   },
   "outputs": [],
   "source": [
    "sub1 = pd.merge(sub,ss,on='challenge_id',how='left')"
   ]
  },
  {
   "cell_type": "code",
   "execution_count": null,
   "metadata": {
    "collapsed": true
   },
   "outputs": [],
   "source": [
    "sub2 = sub[sub['Solved']==1]"
   ]
  },
  {
   "cell_type": "code",
   "execution_count": null,
   "metadata": {
    "collapsed": true
   },
   "outputs": [],
   "source": [
    "sub3 = pd.merge(sub1,sub2,left_on = ['hacker_id','similar'],right_on = ['hacker_id','challenge_id'],how='left')"
   ]
  },
  {
   "cell_type": "code",
   "execution_count": null,
   "metadata": {
    "collapsed": true
   },
   "outputs": [],
   "source": [
    "sub4 = sub3[sub3['Solved_y']!=1]"
   ]
  },
  {
   "cell_type": "code",
   "execution_count": null,
   "metadata": {
    "collapsed": true
   },
   "outputs": [],
   "source": [
    "sub5 = sub4[sub4['Solved_x']==1]"
   ]
  },
  {
   "cell_type": "code",
   "execution_count": null,
   "metadata": {
    "collapsed": true
   },
   "outputs": [],
   "source": [
    "sub6 = sub4[sub4['Solved_x']==0]\n",
    "sub6 = sub6[sub6['score']>=0.4]"
   ]
  },
  {
   "cell_type": "code",
   "execution_count": null,
   "metadata": {
    "collapsed": true
   },
   "outputs": [],
   "source": [
    "sub5 = pd.concat((sub5,sub6), ignore_index=True)"
   ]
  },
  {
   "cell_type": "code",
   "execution_count": null,
   "metadata": {
    "collapsed": true
   },
   "outputs": [],
   "source": [
    "sub_final = sub5[['hacker_id','similar','score']]"
   ]
  },
  {
   "cell_type": "code",
   "execution_count": 794,
   "metadata": {
    "collapsed": false
   },
   "outputs": [
    {
     "data": {
      "text/html": [
       "<div>\n",
       "<table border=\"1\" class=\"dataframe\">\n",
       "  <thead>\n",
       "    <tr style=\"text-align: right;\">\n",
       "      <th></th>\n",
       "      <th>hacker_id</th>\n",
       "      <th>challenge_id_x</th>\n",
       "      <th>similar</th>\n",
       "      <th>score</th>\n",
       "    </tr>\n",
       "  </thead>\n",
       "  <tbody>\n",
       "    <tr>\n",
       "      <th>0</th>\n",
       "      <td>00010020d9cd62a0</td>\n",
       "      <td>14494ad91c883fa1</td>\n",
       "      <td>32863af4fa5c200b</td>\n",
       "      <td>0.463733</td>\n",
       "    </tr>\n",
       "    <tr>\n",
       "      <th>1</th>\n",
       "      <td>00010020d9cd62a0</td>\n",
       "      <td>14494ad91c883fa1</td>\n",
       "      <td>cf7aec14125de538</td>\n",
       "      <td>0.366173</td>\n",
       "    </tr>\n",
       "    <tr>\n",
       "      <th>2</th>\n",
       "      <td>00010020d9cd62a0</td>\n",
       "      <td>14494ad91c883fa1</td>\n",
       "      <td>76fba8ff25f765b6</td>\n",
       "      <td>0.322014</td>\n",
       "    </tr>\n",
       "    <tr>\n",
       "      <th>3</th>\n",
       "      <td>00010020d9cd62a0</td>\n",
       "      <td>14494ad91c883fa1</td>\n",
       "      <td>a8fa4ef7a8bc43dc</td>\n",
       "      <td>0.308759</td>\n",
       "    </tr>\n",
       "    <tr>\n",
       "      <th>4</th>\n",
       "      <td>00010020d9cd62a0</td>\n",
       "      <td>14494ad91c883fa1</td>\n",
       "      <td>425f241df843cd89</td>\n",
       "      <td>0.307129</td>\n",
       "    </tr>\n",
       "  </tbody>\n",
       "</table>\n",
       "</div>"
      ],
      "text/plain": [
       "          hacker_id    challenge_id_x           similar     score\n",
       "0  00010020d9cd62a0  14494ad91c883fa1  32863af4fa5c200b  0.463733\n",
       "1  00010020d9cd62a0  14494ad91c883fa1  cf7aec14125de538  0.366173\n",
       "2  00010020d9cd62a0  14494ad91c883fa1  76fba8ff25f765b6  0.322014\n",
       "3  00010020d9cd62a0  14494ad91c883fa1  a8fa4ef7a8bc43dc  0.308759\n",
       "4  00010020d9cd62a0  14494ad91c883fa1  425f241df843cd89  0.307129"
      ]
     },
     "execution_count": 794,
     "metadata": {},
     "output_type": "execute_result"
    }
   ],
   "source": [
    "sub_final.head()"
   ]
  },
  {
   "cell_type": "code",
   "execution_count": 795,
   "metadata": {
    "collapsed": false
   },
   "outputs": [
    {
     "data": {
      "text/plain": [
       "(2029824, 4)"
      ]
     },
     "execution_count": 795,
     "metadata": {},
     "output_type": "execute_result"
    }
   ],
   "source": [
    "sub_final.shape"
   ]
  },
  {
   "cell_type": "code",
   "execution_count": 120,
   "metadata": {
    "collapsed": false
   },
   "outputs": [],
   "source": [
    "sub_final1 = pysqldf('select * from sub_final order by hacker_id desc,score desc')"
   ]
  },
  {
   "cell_type": "code",
   "execution_count": 121,
   "metadata": {
    "collapsed": false
   },
   "outputs": [
    {
     "data": {
      "text/html": [
       "<div>\n",
       "<table border=\"1\" class=\"dataframe\">\n",
       "  <thead>\n",
       "    <tr style=\"text-align: right;\">\n",
       "      <th></th>\n",
       "      <th>hacker_id</th>\n",
       "      <th>challenge_id_x</th>\n",
       "      <th>similar</th>\n",
       "      <th>score</th>\n",
       "    </tr>\n",
       "  </thead>\n",
       "  <tbody>\n",
       "    <tr>\n",
       "      <th>0</th>\n",
       "      <td>fffcfd13f3e0969d</td>\n",
       "      <td>4e07173c3bba48d2</td>\n",
       "      <td>659f2ceb67eca1ef</td>\n",
       "      <td>0.486719</td>\n",
       "    </tr>\n",
       "    <tr>\n",
       "      <th>1</th>\n",
       "      <td>fffcfd13f3e0969d</td>\n",
       "      <td>76fba8ff25f765b6</td>\n",
       "      <td>659f2ceb67eca1ef</td>\n",
       "      <td>0.469697</td>\n",
       "    </tr>\n",
       "    <tr>\n",
       "      <th>2</th>\n",
       "      <td>fffcfd13f3e0969d</td>\n",
       "      <td>26c95b75d8237f39</td>\n",
       "      <td>659f2ceb67eca1ef</td>\n",
       "      <td>0.448805</td>\n",
       "    </tr>\n",
       "    <tr>\n",
       "      <th>3</th>\n",
       "      <td>fffcfd13f3e0969d</td>\n",
       "      <td>5e85f62bcbb42ea2</td>\n",
       "      <td>ad1cc7894c991bbd</td>\n",
       "      <td>0.410038</td>\n",
       "    </tr>\n",
       "    <tr>\n",
       "      <th>4</th>\n",
       "      <td>fffcfd13f3e0969d</td>\n",
       "      <td>5e85f62bcbb42ea2</td>\n",
       "      <td>c0af13494532539f</td>\n",
       "      <td>0.402750</td>\n",
       "    </tr>\n",
       "  </tbody>\n",
       "</table>\n",
       "</div>"
      ],
      "text/plain": [
       "          hacker_id    challenge_id_x           similar     score\n",
       "0  fffcfd13f3e0969d  4e07173c3bba48d2  659f2ceb67eca1ef  0.486719\n",
       "1  fffcfd13f3e0969d  76fba8ff25f765b6  659f2ceb67eca1ef  0.469697\n",
       "2  fffcfd13f3e0969d  26c95b75d8237f39  659f2ceb67eca1ef  0.448805\n",
       "3  fffcfd13f3e0969d  5e85f62bcbb42ea2  ad1cc7894c991bbd  0.410038\n",
       "4  fffcfd13f3e0969d  5e85f62bcbb42ea2  c0af13494532539f  0.402750"
      ]
     },
     "execution_count": 121,
     "metadata": {},
     "output_type": "execute_result"
    }
   ],
   "source": [
    "sub_final1.head()"
   ]
  },
  {
   "cell_type": "code",
   "execution_count": 122,
   "metadata": {
    "collapsed": false
   },
   "outputs": [
    {
     "data": {
      "text/plain": [
       "(2364807, 4)"
      ]
     },
     "execution_count": 122,
     "metadata": {},
     "output_type": "execute_result"
    }
   ],
   "source": [
    "sub_final1.shape"
   ]
  },
  {
   "cell_type": "code",
   "execution_count": 123,
   "metadata": {
    "collapsed": true
   },
   "outputs": [],
   "source": [
    "chal = pd.read_csv(\"E:/HackerRank/Contest/Recommendation/challenges.csv\")"
   ]
  },
  {
   "cell_type": "code",
   "execution_count": 124,
   "metadata": {
    "collapsed": true
   },
   "outputs": [],
   "source": [
    "#chal = pysqldf(\"select * from chal where contest_id = 'c8ff662c97d345d2'\")"
   ]
  },
  {
   "cell_type": "code",
   "execution_count": 125,
   "metadata": {
    "collapsed": false
   },
   "outputs": [
    {
     "data": {
      "text/html": [
       "<div>\n",
       "<table border=\"1\" class=\"dataframe\">\n",
       "  <thead>\n",
       "    <tr style=\"text-align: right;\">\n",
       "      <th></th>\n",
       "      <th>challenge_id</th>\n",
       "      <th>contest_id</th>\n",
       "      <th>domain</th>\n",
       "      <th>subdomain</th>\n",
       "      <th>difficulty</th>\n",
       "      <th>solved_submission_count</th>\n",
       "      <th>total_submissions_count</th>\n",
       "    </tr>\n",
       "  </thead>\n",
       "  <tbody>\n",
       "    <tr>\n",
       "      <th>0</th>\n",
       "      <td>18e0a2dad5e127d6</td>\n",
       "      <td>c8ff662c97d345d2</td>\n",
       "      <td>Artificial Intelligence</td>\n",
       "      <td>Bot Building</td>\n",
       "      <td>0.978261</td>\n",
       "      <td>319</td>\n",
       "      <td>655</td>\n",
       "    </tr>\n",
       "    <tr>\n",
       "      <th>1</th>\n",
       "      <td>0251520ace81bc57</td>\n",
       "      <td>c8ff662c97d345d2</td>\n",
       "      <td>Algorithms</td>\n",
       "      <td>Strings</td>\n",
       "      <td>0.894473</td>\n",
       "      <td>765</td>\n",
       "      <td>1267</td>\n",
       "    </tr>\n",
       "    <tr>\n",
       "      <th>2</th>\n",
       "      <td>425f241df843cd89</td>\n",
       "      <td>c8ff662c97d345d2</td>\n",
       "      <td>Algorithms</td>\n",
       "      <td>Strings</td>\n",
       "      <td>0.908853</td>\n",
       "      <td>1247</td>\n",
       "      <td>1864</td>\n",
       "    </tr>\n",
       "    <tr>\n",
       "      <th>3</th>\n",
       "      <td>970eca328814a522</td>\n",
       "      <td>c8ff662c97d345d2</td>\n",
       "      <td>Algorithms</td>\n",
       "      <td>Strings</td>\n",
       "      <td>0.902722</td>\n",
       "      <td>453</td>\n",
       "      <td>835</td>\n",
       "    </tr>\n",
       "    <tr>\n",
       "      <th>4</th>\n",
       "      <td>46592c29655cfc5e</td>\n",
       "      <td>c8ff662c97d345d2</td>\n",
       "      <td>Algorithms</td>\n",
       "      <td>Strings</td>\n",
       "      <td>0.900000</td>\n",
       "      <td>312</td>\n",
       "      <td>1363</td>\n",
       "    </tr>\n",
       "  </tbody>\n",
       "</table>\n",
       "</div>"
      ],
      "text/plain": [
       "       challenge_id        contest_id                   domain     subdomain  \\\n",
       "0  18e0a2dad5e127d6  c8ff662c97d345d2  Artificial Intelligence  Bot Building   \n",
       "1  0251520ace81bc57  c8ff662c97d345d2               Algorithms       Strings   \n",
       "2  425f241df843cd89  c8ff662c97d345d2               Algorithms       Strings   \n",
       "3  970eca328814a522  c8ff662c97d345d2               Algorithms       Strings   \n",
       "4  46592c29655cfc5e  c8ff662c97d345d2               Algorithms       Strings   \n",
       "\n",
       "   difficulty  solved_submission_count  total_submissions_count  \n",
       "0    0.978261                      319                      655  \n",
       "1    0.894473                      765                     1267  \n",
       "2    0.908853                     1247                     1864  \n",
       "3    0.902722                      453                      835  \n",
       "4    0.900000                      312                     1363  "
      ]
     },
     "execution_count": 125,
     "metadata": {},
     "output_type": "execute_result"
    }
   ],
   "source": [
    "chal.head()"
   ]
  },
  {
   "cell_type": "code",
   "execution_count": 126,
   "metadata": {
    "collapsed": false
   },
   "outputs": [],
   "source": [
    "chal_diff = pysqldf(\"Select challenge_id,difficulty from chal where contest_id = 'c8ff662c97d345d2' group by challenge_id\")"
   ]
  },
  {
   "cell_type": "code",
   "execution_count": 127,
   "metadata": {
    "collapsed": false
   },
   "outputs": [],
   "source": [
    "sub_final1 = pysqldf('select sub_final1.*, difficulty from sub_final1 inner join chal_diff on challenge_id_x=challenge_id')"
   ]
  },
  {
   "cell_type": "code",
   "execution_count": 128,
   "metadata": {
    "collapsed": false
   },
   "outputs": [
    {
     "data": {
      "text/html": [
       "<div>\n",
       "<table border=\"1\" class=\"dataframe\">\n",
       "  <thead>\n",
       "    <tr style=\"text-align: right;\">\n",
       "      <th></th>\n",
       "      <th>hacker_id</th>\n",
       "      <th>challenge_id_x</th>\n",
       "      <th>similar</th>\n",
       "      <th>score</th>\n",
       "      <th>difficulty</th>\n",
       "    </tr>\n",
       "  </thead>\n",
       "  <tbody>\n",
       "    <tr>\n",
       "      <th>0</th>\n",
       "      <td>fffcfd13f3e0969d</td>\n",
       "      <td>4e07173c3bba48d2</td>\n",
       "      <td>659f2ceb67eca1ef</td>\n",
       "      <td>0.486719</td>\n",
       "      <td>0.831781</td>\n",
       "    </tr>\n",
       "    <tr>\n",
       "      <th>1</th>\n",
       "      <td>fffcfd13f3e0969d</td>\n",
       "      <td>76fba8ff25f765b6</td>\n",
       "      <td>659f2ceb67eca1ef</td>\n",
       "      <td>0.469697</td>\n",
       "      <td>0.858948</td>\n",
       "    </tr>\n",
       "    <tr>\n",
       "      <th>2</th>\n",
       "      <td>fffcfd13f3e0969d</td>\n",
       "      <td>26c95b75d8237f39</td>\n",
       "      <td>659f2ceb67eca1ef</td>\n",
       "      <td>0.448805</td>\n",
       "      <td>0.900000</td>\n",
       "    </tr>\n",
       "    <tr>\n",
       "      <th>3</th>\n",
       "      <td>fffcfd13f3e0969d</td>\n",
       "      <td>5e85f62bcbb42ea2</td>\n",
       "      <td>ad1cc7894c991bbd</td>\n",
       "      <td>0.410038</td>\n",
       "      <td>0.859466</td>\n",
       "    </tr>\n",
       "    <tr>\n",
       "      <th>4</th>\n",
       "      <td>fffcfd13f3e0969d</td>\n",
       "      <td>5e85f62bcbb42ea2</td>\n",
       "      <td>c0af13494532539f</td>\n",
       "      <td>0.402750</td>\n",
       "      <td>0.859466</td>\n",
       "    </tr>\n",
       "  </tbody>\n",
       "</table>\n",
       "</div>"
      ],
      "text/plain": [
       "          hacker_id    challenge_id_x           similar     score  difficulty\n",
       "0  fffcfd13f3e0969d  4e07173c3bba48d2  659f2ceb67eca1ef  0.486719    0.831781\n",
       "1  fffcfd13f3e0969d  76fba8ff25f765b6  659f2ceb67eca1ef  0.469697    0.858948\n",
       "2  fffcfd13f3e0969d  26c95b75d8237f39  659f2ceb67eca1ef  0.448805    0.900000\n",
       "3  fffcfd13f3e0969d  5e85f62bcbb42ea2  ad1cc7894c991bbd  0.410038    0.859466\n",
       "4  fffcfd13f3e0969d  5e85f62bcbb42ea2  c0af13494532539f  0.402750    0.859466"
      ]
     },
     "execution_count": 128,
     "metadata": {},
     "output_type": "execute_result"
    }
   ],
   "source": [
    "sub_final1.head()"
   ]
  },
  {
   "cell_type": "code",
   "execution_count": 129,
   "metadata": {
    "collapsed": false
   },
   "outputs": [],
   "source": [
    "sub_final1 = pysqldf('select sub_final1.*, chal_diff.difficulty as similar_diff from sub_final1 inner join chal_diff on similar=challenge_id')"
   ]
  },
  {
   "cell_type": "code",
   "execution_count": 130,
   "metadata": {
    "collapsed": false
   },
   "outputs": [
    {
     "data": {
      "text/html": [
       "<div>\n",
       "<table border=\"1\" class=\"dataframe\">\n",
       "  <thead>\n",
       "    <tr style=\"text-align: right;\">\n",
       "      <th></th>\n",
       "      <th>hacker_id</th>\n",
       "      <th>challenge_id_x</th>\n",
       "      <th>similar</th>\n",
       "      <th>score</th>\n",
       "      <th>difficulty</th>\n",
       "      <th>similar_diff</th>\n",
       "    </tr>\n",
       "  </thead>\n",
       "  <tbody>\n",
       "    <tr>\n",
       "      <th>0</th>\n",
       "      <td>fffcfd13f3e0969d</td>\n",
       "      <td>4e07173c3bba48d2</td>\n",
       "      <td>659f2ceb67eca1ef</td>\n",
       "      <td>0.486719</td>\n",
       "      <td>0.831781</td>\n",
       "      <td>0.817351</td>\n",
       "    </tr>\n",
       "    <tr>\n",
       "      <th>1</th>\n",
       "      <td>fffcfd13f3e0969d</td>\n",
       "      <td>76fba8ff25f765b6</td>\n",
       "      <td>659f2ceb67eca1ef</td>\n",
       "      <td>0.469697</td>\n",
       "      <td>0.858948</td>\n",
       "      <td>0.817351</td>\n",
       "    </tr>\n",
       "    <tr>\n",
       "      <th>2</th>\n",
       "      <td>fffcfd13f3e0969d</td>\n",
       "      <td>26c95b75d8237f39</td>\n",
       "      <td>659f2ceb67eca1ef</td>\n",
       "      <td>0.448805</td>\n",
       "      <td>0.900000</td>\n",
       "      <td>0.817351</td>\n",
       "    </tr>\n",
       "    <tr>\n",
       "      <th>3</th>\n",
       "      <td>fffcfd13f3e0969d</td>\n",
       "      <td>5e85f62bcbb42ea2</td>\n",
       "      <td>ad1cc7894c991bbd</td>\n",
       "      <td>0.410038</td>\n",
       "      <td>0.859466</td>\n",
       "      <td>0.869835</td>\n",
       "    </tr>\n",
       "    <tr>\n",
       "      <th>4</th>\n",
       "      <td>fffcfd13f3e0969d</td>\n",
       "      <td>5e85f62bcbb42ea2</td>\n",
       "      <td>c0af13494532539f</td>\n",
       "      <td>0.402750</td>\n",
       "      <td>0.859466</td>\n",
       "      <td>0.850127</td>\n",
       "    </tr>\n",
       "  </tbody>\n",
       "</table>\n",
       "</div>"
      ],
      "text/plain": [
       "          hacker_id    challenge_id_x           similar     score  difficulty  \\\n",
       "0  fffcfd13f3e0969d  4e07173c3bba48d2  659f2ceb67eca1ef  0.486719    0.831781   \n",
       "1  fffcfd13f3e0969d  76fba8ff25f765b6  659f2ceb67eca1ef  0.469697    0.858948   \n",
       "2  fffcfd13f3e0969d  26c95b75d8237f39  659f2ceb67eca1ef  0.448805    0.900000   \n",
       "3  fffcfd13f3e0969d  5e85f62bcbb42ea2  ad1cc7894c991bbd  0.410038    0.859466   \n",
       "4  fffcfd13f3e0969d  5e85f62bcbb42ea2  c0af13494532539f  0.402750    0.859466   \n",
       "\n",
       "   similar_diff  \n",
       "0      0.817351  \n",
       "1      0.817351  \n",
       "2      0.817351  \n",
       "3      0.869835  \n",
       "4      0.850127  "
      ]
     },
     "execution_count": 130,
     "metadata": {},
     "output_type": "execute_result"
    }
   ],
   "source": [
    "sub_final1.head()"
   ]
  },
  {
   "cell_type": "code",
   "execution_count": 131,
   "metadata": {
    "collapsed": false
   },
   "outputs": [],
   "source": [
    "sub_final1['difficulty_diff'] = abs(sub_final1['difficulty'] - sub_final1['similar_diff'])"
   ]
  },
  {
   "cell_type": "code",
   "execution_count": 132,
   "metadata": {
    "collapsed": false
   },
   "outputs": [
    {
     "data": {
      "text/html": [
       "<div>\n",
       "<table border=\"1\" class=\"dataframe\">\n",
       "  <thead>\n",
       "    <tr style=\"text-align: right;\">\n",
       "      <th></th>\n",
       "      <th>hacker_id</th>\n",
       "      <th>challenge_id_x</th>\n",
       "      <th>similar</th>\n",
       "      <th>score</th>\n",
       "      <th>difficulty</th>\n",
       "      <th>similar_diff</th>\n",
       "      <th>difficulty_diff</th>\n",
       "    </tr>\n",
       "  </thead>\n",
       "  <tbody>\n",
       "    <tr>\n",
       "      <th>0</th>\n",
       "      <td>fffcfd13f3e0969d</td>\n",
       "      <td>4e07173c3bba48d2</td>\n",
       "      <td>659f2ceb67eca1ef</td>\n",
       "      <td>0.486719</td>\n",
       "      <td>0.831781</td>\n",
       "      <td>0.817351</td>\n",
       "      <td>0.014430</td>\n",
       "    </tr>\n",
       "    <tr>\n",
       "      <th>1</th>\n",
       "      <td>fffcfd13f3e0969d</td>\n",
       "      <td>76fba8ff25f765b6</td>\n",
       "      <td>659f2ceb67eca1ef</td>\n",
       "      <td>0.469697</td>\n",
       "      <td>0.858948</td>\n",
       "      <td>0.817351</td>\n",
       "      <td>0.041597</td>\n",
       "    </tr>\n",
       "    <tr>\n",
       "      <th>2</th>\n",
       "      <td>fffcfd13f3e0969d</td>\n",
       "      <td>26c95b75d8237f39</td>\n",
       "      <td>659f2ceb67eca1ef</td>\n",
       "      <td>0.448805</td>\n",
       "      <td>0.900000</td>\n",
       "      <td>0.817351</td>\n",
       "      <td>0.082649</td>\n",
       "    </tr>\n",
       "    <tr>\n",
       "      <th>3</th>\n",
       "      <td>fffcfd13f3e0969d</td>\n",
       "      <td>5e85f62bcbb42ea2</td>\n",
       "      <td>ad1cc7894c991bbd</td>\n",
       "      <td>0.410038</td>\n",
       "      <td>0.859466</td>\n",
       "      <td>0.869835</td>\n",
       "      <td>0.010369</td>\n",
       "    </tr>\n",
       "    <tr>\n",
       "      <th>4</th>\n",
       "      <td>fffcfd13f3e0969d</td>\n",
       "      <td>5e85f62bcbb42ea2</td>\n",
       "      <td>c0af13494532539f</td>\n",
       "      <td>0.402750</td>\n",
       "      <td>0.859466</td>\n",
       "      <td>0.850127</td>\n",
       "      <td>0.009339</td>\n",
       "    </tr>\n",
       "  </tbody>\n",
       "</table>\n",
       "</div>"
      ],
      "text/plain": [
       "          hacker_id    challenge_id_x           similar     score  difficulty  \\\n",
       "0  fffcfd13f3e0969d  4e07173c3bba48d2  659f2ceb67eca1ef  0.486719    0.831781   \n",
       "1  fffcfd13f3e0969d  76fba8ff25f765b6  659f2ceb67eca1ef  0.469697    0.858948   \n",
       "2  fffcfd13f3e0969d  26c95b75d8237f39  659f2ceb67eca1ef  0.448805    0.900000   \n",
       "3  fffcfd13f3e0969d  5e85f62bcbb42ea2  ad1cc7894c991bbd  0.410038    0.859466   \n",
       "4  fffcfd13f3e0969d  5e85f62bcbb42ea2  c0af13494532539f  0.402750    0.859466   \n",
       "\n",
       "   similar_diff  difficulty_diff  \n",
       "0      0.817351         0.014430  \n",
       "1      0.817351         0.041597  \n",
       "2      0.817351         0.082649  \n",
       "3      0.869835         0.010369  \n",
       "4      0.850127         0.009339  "
      ]
     },
     "execution_count": 132,
     "metadata": {},
     "output_type": "execute_result"
    }
   ],
   "source": [
    "sub_final1.head()"
   ]
  },
  {
   "cell_type": "code",
   "execution_count": 133,
   "metadata": {
    "collapsed": true
   },
   "outputs": [],
   "source": [
    "sub_final1['score'] = sub_final1['score'] - sub_final1['difficulty_diff']"
   ]
  },
  {
   "cell_type": "code",
   "execution_count": 134,
   "metadata": {
    "collapsed": false
   },
   "outputs": [
    {
     "data": {
      "text/html": [
       "<div>\n",
       "<table border=\"1\" class=\"dataframe\">\n",
       "  <thead>\n",
       "    <tr style=\"text-align: right;\">\n",
       "      <th></th>\n",
       "      <th>hacker_id</th>\n",
       "      <th>challenge_id_x</th>\n",
       "      <th>similar</th>\n",
       "      <th>score</th>\n",
       "      <th>difficulty</th>\n",
       "      <th>similar_diff</th>\n",
       "      <th>difficulty_diff</th>\n",
       "    </tr>\n",
       "  </thead>\n",
       "  <tbody>\n",
       "    <tr>\n",
       "      <th>0</th>\n",
       "      <td>fffcfd13f3e0969d</td>\n",
       "      <td>4e07173c3bba48d2</td>\n",
       "      <td>659f2ceb67eca1ef</td>\n",
       "      <td>0.472289</td>\n",
       "      <td>0.831781</td>\n",
       "      <td>0.817351</td>\n",
       "      <td>0.014430</td>\n",
       "    </tr>\n",
       "    <tr>\n",
       "      <th>1</th>\n",
       "      <td>fffcfd13f3e0969d</td>\n",
       "      <td>76fba8ff25f765b6</td>\n",
       "      <td>659f2ceb67eca1ef</td>\n",
       "      <td>0.428100</td>\n",
       "      <td>0.858948</td>\n",
       "      <td>0.817351</td>\n",
       "      <td>0.041597</td>\n",
       "    </tr>\n",
       "    <tr>\n",
       "      <th>2</th>\n",
       "      <td>fffcfd13f3e0969d</td>\n",
       "      <td>26c95b75d8237f39</td>\n",
       "      <td>659f2ceb67eca1ef</td>\n",
       "      <td>0.366156</td>\n",
       "      <td>0.900000</td>\n",
       "      <td>0.817351</td>\n",
       "      <td>0.082649</td>\n",
       "    </tr>\n",
       "    <tr>\n",
       "      <th>3</th>\n",
       "      <td>fffcfd13f3e0969d</td>\n",
       "      <td>5e85f62bcbb42ea2</td>\n",
       "      <td>ad1cc7894c991bbd</td>\n",
       "      <td>0.399669</td>\n",
       "      <td>0.859466</td>\n",
       "      <td>0.869835</td>\n",
       "      <td>0.010369</td>\n",
       "    </tr>\n",
       "    <tr>\n",
       "      <th>4</th>\n",
       "      <td>fffcfd13f3e0969d</td>\n",
       "      <td>5e85f62bcbb42ea2</td>\n",
       "      <td>c0af13494532539f</td>\n",
       "      <td>0.393411</td>\n",
       "      <td>0.859466</td>\n",
       "      <td>0.850127</td>\n",
       "      <td>0.009339</td>\n",
       "    </tr>\n",
       "  </tbody>\n",
       "</table>\n",
       "</div>"
      ],
      "text/plain": [
       "          hacker_id    challenge_id_x           similar     score  difficulty  \\\n",
       "0  fffcfd13f3e0969d  4e07173c3bba48d2  659f2ceb67eca1ef  0.472289    0.831781   \n",
       "1  fffcfd13f3e0969d  76fba8ff25f765b6  659f2ceb67eca1ef  0.428100    0.858948   \n",
       "2  fffcfd13f3e0969d  26c95b75d8237f39  659f2ceb67eca1ef  0.366156    0.900000   \n",
       "3  fffcfd13f3e0969d  5e85f62bcbb42ea2  ad1cc7894c991bbd  0.399669    0.859466   \n",
       "4  fffcfd13f3e0969d  5e85f62bcbb42ea2  c0af13494532539f  0.393411    0.859466   \n",
       "\n",
       "   similar_diff  difficulty_diff  \n",
       "0      0.817351         0.014430  \n",
       "1      0.817351         0.041597  \n",
       "2      0.817351         0.082649  \n",
       "3      0.869835         0.010369  \n",
       "4      0.850127         0.009339  "
      ]
     },
     "execution_count": 134,
     "metadata": {},
     "output_type": "execute_result"
    }
   ],
   "source": [
    "sub_final1.head()"
   ]
  },
  {
   "cell_type": "code",
   "execution_count": 135,
   "metadata": {
    "collapsed": true
   },
   "outputs": [],
   "source": [
    "sub_final1=sub_final1.rename(columns={\"challenge_id_x\":\"challenge_id\"})\n",
    "sub_final1 = sub_final1[['hacker_id','similar','score']]"
   ]
  },
  {
   "cell_type": "code",
   "execution_count": 136,
   "metadata": {
    "collapsed": false
   },
   "outputs": [
    {
     "data": {
      "text/plain": [
       "(2158778, 3)"
      ]
     },
     "execution_count": 136,
     "metadata": {},
     "output_type": "execute_result"
    }
   ],
   "source": [
    "sub_final1.shape"
   ]
  },
  {
   "cell_type": "code",
   "execution_count": 137,
   "metadata": {
    "collapsed": true
   },
   "outputs": [],
   "source": [
    "chal_id =(chal[['challenge_id','contest_id']])"
   ]
  },
  {
   "cell_type": "code",
   "execution_count": 138,
   "metadata": {
    "collapsed": false
   },
   "outputs": [],
   "source": [
    "chal_id_un = pysqldf(\"select challenge_id from chal_id where contest_id = 'c8ff662c97d345d2' group by challenge_id\")"
   ]
  },
  {
   "cell_type": "code",
   "execution_count": 139,
   "metadata": {
    "collapsed": false
   },
   "outputs": [],
   "source": [
    "final = pd.merge(sub_final1,chal_id_un,left_on = 'similar', right_on = 'challenge_id',how = 'inner')"
   ]
  },
  {
   "cell_type": "code",
   "execution_count": 140,
   "metadata": {
    "collapsed": false
   },
   "outputs": [
    {
     "data": {
      "text/plain": [
       "(2158778, 4)"
      ]
     },
     "execution_count": 140,
     "metadata": {},
     "output_type": "execute_result"
    }
   ],
   "source": [
    "final.shape"
   ]
  },
  {
   "cell_type": "code",
   "execution_count": 141,
   "metadata": {
    "collapsed": false
   },
   "outputs": [
    {
     "data": {
      "text/html": [
       "<div>\n",
       "<table border=\"1\" class=\"dataframe\">\n",
       "  <thead>\n",
       "    <tr style=\"text-align: right;\">\n",
       "      <th></th>\n",
       "      <th>hacker_id</th>\n",
       "      <th>similar</th>\n",
       "      <th>score</th>\n",
       "      <th>challenge_id</th>\n",
       "    </tr>\n",
       "  </thead>\n",
       "  <tbody>\n",
       "    <tr>\n",
       "      <th>0</th>\n",
       "      <td>fffcfd13f3e0969d</td>\n",
       "      <td>659f2ceb67eca1ef</td>\n",
       "      <td>0.472289</td>\n",
       "      <td>659f2ceb67eca1ef</td>\n",
       "    </tr>\n",
       "    <tr>\n",
       "      <th>1</th>\n",
       "      <td>fffcfd13f3e0969d</td>\n",
       "      <td>659f2ceb67eca1ef</td>\n",
       "      <td>0.428100</td>\n",
       "      <td>659f2ceb67eca1ef</td>\n",
       "    </tr>\n",
       "    <tr>\n",
       "      <th>2</th>\n",
       "      <td>fffcfd13f3e0969d</td>\n",
       "      <td>659f2ceb67eca1ef</td>\n",
       "      <td>0.366156</td>\n",
       "      <td>659f2ceb67eca1ef</td>\n",
       "    </tr>\n",
       "    <tr>\n",
       "      <th>3</th>\n",
       "      <td>fffcfd13f3e0969d</td>\n",
       "      <td>659f2ceb67eca1ef</td>\n",
       "      <td>0.225327</td>\n",
       "      <td>659f2ceb67eca1ef</td>\n",
       "    </tr>\n",
       "    <tr>\n",
       "      <th>4</th>\n",
       "      <td>fffcfd13f3e0969d</td>\n",
       "      <td>659f2ceb67eca1ef</td>\n",
       "      <td>0.191445</td>\n",
       "      <td>659f2ceb67eca1ef</td>\n",
       "    </tr>\n",
       "  </tbody>\n",
       "</table>\n",
       "</div>"
      ],
      "text/plain": [
       "          hacker_id           similar     score      challenge_id\n",
       "0  fffcfd13f3e0969d  659f2ceb67eca1ef  0.472289  659f2ceb67eca1ef\n",
       "1  fffcfd13f3e0969d  659f2ceb67eca1ef  0.428100  659f2ceb67eca1ef\n",
       "2  fffcfd13f3e0969d  659f2ceb67eca1ef  0.366156  659f2ceb67eca1ef\n",
       "3  fffcfd13f3e0969d  659f2ceb67eca1ef  0.225327  659f2ceb67eca1ef\n",
       "4  fffcfd13f3e0969d  659f2ceb67eca1ef  0.191445  659f2ceb67eca1ef"
      ]
     },
     "execution_count": 141,
     "metadata": {},
     "output_type": "execute_result"
    }
   ],
   "source": [
    "final.head()"
   ]
  },
  {
   "cell_type": "code",
   "execution_count": 142,
   "metadata": {
    "collapsed": false
   },
   "outputs": [],
   "source": [
    "final = pysqldf(\"select hacker_id,similar,max(score) as score from  final group by hacker_id,similar order by hacker_id desc, score desc\")"
   ]
  },
  {
   "cell_type": "code",
   "execution_count": 143,
   "metadata": {
    "collapsed": false
   },
   "outputs": [
    {
     "data": {
      "text/html": [
       "<div>\n",
       "<table border=\"1\" class=\"dataframe\">\n",
       "  <thead>\n",
       "    <tr style=\"text-align: right;\">\n",
       "      <th></th>\n",
       "      <th>hacker_id</th>\n",
       "      <th>similar</th>\n",
       "      <th>score</th>\n",
       "    </tr>\n",
       "  </thead>\n",
       "  <tbody>\n",
       "    <tr>\n",
       "      <th>0</th>\n",
       "      <td>fffcfd13f3e0969d</td>\n",
       "      <td>659f2ceb67eca1ef</td>\n",
       "      <td>0.472289</td>\n",
       "    </tr>\n",
       "    <tr>\n",
       "      <th>1</th>\n",
       "      <td>fffcfd13f3e0969d</td>\n",
       "      <td>ad1cc7894c991bbd</td>\n",
       "      <td>0.399669</td>\n",
       "    </tr>\n",
       "    <tr>\n",
       "      <th>2</th>\n",
       "      <td>fffcfd13f3e0969d</td>\n",
       "      <td>c0af13494532539f</td>\n",
       "      <td>0.393411</td>\n",
       "    </tr>\n",
       "    <tr>\n",
       "      <th>3</th>\n",
       "      <td>fffcfd13f3e0969d</td>\n",
       "      <td>5e7c4c10a3ceab24</td>\n",
       "      <td>0.328000</td>\n",
       "    </tr>\n",
       "    <tr>\n",
       "      <th>4</th>\n",
       "      <td>fffcfd13f3e0969d</td>\n",
       "      <td>08245c18359694b1</td>\n",
       "      <td>0.292229</td>\n",
       "    </tr>\n",
       "  </tbody>\n",
       "</table>\n",
       "</div>"
      ],
      "text/plain": [
       "          hacker_id           similar     score\n",
       "0  fffcfd13f3e0969d  659f2ceb67eca1ef  0.472289\n",
       "1  fffcfd13f3e0969d  ad1cc7894c991bbd  0.399669\n",
       "2  fffcfd13f3e0969d  c0af13494532539f  0.393411\n",
       "3  fffcfd13f3e0969d  5e7c4c10a3ceab24  0.328000\n",
       "4  fffcfd13f3e0969d  08245c18359694b1  0.292229"
      ]
     },
     "execution_count": 143,
     "metadata": {},
     "output_type": "execute_result"
    }
   ],
   "source": [
    "final.head()"
   ]
  },
  {
   "cell_type": "code",
   "execution_count": 144,
   "metadata": {
    "collapsed": false
   },
   "outputs": [
    {
     "name": "stderr",
     "output_type": "stream",
     "text": [
      "C:\\Users\\Prashanth.S\\AppData\\Local\\Continuum\\Anaconda2\\lib\\site-packages\\ipykernel\\__main__.py:1: FutureWarning: sort(columns=....) is deprecated, use sort_values(by=.....)\n",
      "  if __name__ == '__main__':\n"
     ]
    }
   ],
   "source": [
    "final =final.sort(['hacker_id','score'], ascending=[False,False]) "
   ]
  },
  {
   "cell_type": "code",
   "execution_count": 145,
   "metadata": {
    "collapsed": false
   },
   "outputs": [
    {
     "data": {
      "text/html": [
       "<div>\n",
       "<table border=\"1\" class=\"dataframe\">\n",
       "  <thead>\n",
       "    <tr style=\"text-align: right;\">\n",
       "      <th></th>\n",
       "      <th>hacker_id</th>\n",
       "      <th>similar</th>\n",
       "      <th>score</th>\n",
       "    </tr>\n",
       "  </thead>\n",
       "  <tbody>\n",
       "    <tr>\n",
       "      <th>0</th>\n",
       "      <td>fffcfd13f3e0969d</td>\n",
       "      <td>659f2ceb67eca1ef</td>\n",
       "      <td>0.472289</td>\n",
       "    </tr>\n",
       "    <tr>\n",
       "      <th>1</th>\n",
       "      <td>fffcfd13f3e0969d</td>\n",
       "      <td>ad1cc7894c991bbd</td>\n",
       "      <td>0.399669</td>\n",
       "    </tr>\n",
       "    <tr>\n",
       "      <th>2</th>\n",
       "      <td>fffcfd13f3e0969d</td>\n",
       "      <td>c0af13494532539f</td>\n",
       "      <td>0.393411</td>\n",
       "    </tr>\n",
       "    <tr>\n",
       "      <th>3</th>\n",
       "      <td>fffcfd13f3e0969d</td>\n",
       "      <td>5e7c4c10a3ceab24</td>\n",
       "      <td>0.328000</td>\n",
       "    </tr>\n",
       "    <tr>\n",
       "      <th>4</th>\n",
       "      <td>fffcfd13f3e0969d</td>\n",
       "      <td>08245c18359694b1</td>\n",
       "      <td>0.292229</td>\n",
       "    </tr>\n",
       "  </tbody>\n",
       "</table>\n",
       "</div>"
      ],
      "text/plain": [
       "          hacker_id           similar     score\n",
       "0  fffcfd13f3e0969d  659f2ceb67eca1ef  0.472289\n",
       "1  fffcfd13f3e0969d  ad1cc7894c991bbd  0.399669\n",
       "2  fffcfd13f3e0969d  c0af13494532539f  0.393411\n",
       "3  fffcfd13f3e0969d  5e7c4c10a3ceab24  0.328000\n",
       "4  fffcfd13f3e0969d  08245c18359694b1  0.292229"
      ]
     },
     "execution_count": 145,
     "metadata": {},
     "output_type": "execute_result"
    }
   ],
   "source": [
    "final.head()"
   ]
  },
  {
   "cell_type": "code",
   "execution_count": 146,
   "metadata": {
    "collapsed": true
   },
   "outputs": [],
   "source": [
    "final1 = final.groupby('hacker_id').head(10).reset_index(drop=True) "
   ]
  },
  {
   "cell_type": "code",
   "execution_count": 147,
   "metadata": {
    "collapsed": false
   },
   "outputs": [
    {
     "data": {
      "text/html": [
       "<div>\n",
       "<table border=\"1\" class=\"dataframe\">\n",
       "  <thead>\n",
       "    <tr style=\"text-align: right;\">\n",
       "      <th></th>\n",
       "      <th>hacker_id</th>\n",
       "      <th>similar</th>\n",
       "      <th>score</th>\n",
       "    </tr>\n",
       "  </thead>\n",
       "  <tbody>\n",
       "    <tr>\n",
       "      <th>0</th>\n",
       "      <td>fffcfd13f3e0969d</td>\n",
       "      <td>659f2ceb67eca1ef</td>\n",
       "      <td>0.472289</td>\n",
       "    </tr>\n",
       "    <tr>\n",
       "      <th>1</th>\n",
       "      <td>fffcfd13f3e0969d</td>\n",
       "      <td>ad1cc7894c991bbd</td>\n",
       "      <td>0.399669</td>\n",
       "    </tr>\n",
       "    <tr>\n",
       "      <th>2</th>\n",
       "      <td>fffcfd13f3e0969d</td>\n",
       "      <td>c0af13494532539f</td>\n",
       "      <td>0.393411</td>\n",
       "    </tr>\n",
       "    <tr>\n",
       "      <th>3</th>\n",
       "      <td>fffcfd13f3e0969d</td>\n",
       "      <td>5e7c4c10a3ceab24</td>\n",
       "      <td>0.328000</td>\n",
       "    </tr>\n",
       "    <tr>\n",
       "      <th>4</th>\n",
       "      <td>fffcfd13f3e0969d</td>\n",
       "      <td>08245c18359694b1</td>\n",
       "      <td>0.292229</td>\n",
       "    </tr>\n",
       "  </tbody>\n",
       "</table>\n",
       "</div>"
      ],
      "text/plain": [
       "          hacker_id           similar     score\n",
       "0  fffcfd13f3e0969d  659f2ceb67eca1ef  0.472289\n",
       "1  fffcfd13f3e0969d  ad1cc7894c991bbd  0.399669\n",
       "2  fffcfd13f3e0969d  c0af13494532539f  0.393411\n",
       "3  fffcfd13f3e0969d  5e7c4c10a3ceab24  0.328000\n",
       "4  fffcfd13f3e0969d  08245c18359694b1  0.292229"
      ]
     },
     "execution_count": 147,
     "metadata": {},
     "output_type": "execute_result"
    }
   ],
   "source": [
    "final.head()"
   ]
  },
  {
   "cell_type": "code",
   "execution_count": 148,
   "metadata": {
    "collapsed": false
   },
   "outputs": [
    {
     "data": {
      "text/html": [
       "<div>\n",
       "<table border=\"1\" class=\"dataframe\">\n",
       "  <thead>\n",
       "    <tr style=\"text-align: right;\">\n",
       "      <th></th>\n",
       "      <th>hacker_id</th>\n",
       "      <th>similar</th>\n",
       "      <th>score</th>\n",
       "    </tr>\n",
       "  </thead>\n",
       "  <tbody>\n",
       "    <tr>\n",
       "      <th>0</th>\n",
       "      <td>00004cf8b853ad0d</td>\n",
       "      <td>08a5f5f58fe5f586</td>\n",
       "      <td>0</td>\n",
       "    </tr>\n",
       "    <tr>\n",
       "      <th>1</th>\n",
       "      <td>00004cf8b853ad0d</td>\n",
       "      <td>3411e4e6add2b8e4</td>\n",
       "      <td>0</td>\n",
       "    </tr>\n",
       "    <tr>\n",
       "      <th>2</th>\n",
       "      <td>00004cf8b853ad0d</td>\n",
       "      <td>366684b779574e86</td>\n",
       "      <td>0</td>\n",
       "    </tr>\n",
       "    <tr>\n",
       "      <th>3</th>\n",
       "      <td>00004cf8b853ad0d</td>\n",
       "      <td>ab1bdad8537b85cd</td>\n",
       "      <td>0</td>\n",
       "    </tr>\n",
       "    <tr>\n",
       "      <th>4</th>\n",
       "      <td>00004cf8b853ad0d</td>\n",
       "      <td>c3647a9292e553b9</td>\n",
       "      <td>0</td>\n",
       "    </tr>\n",
       "  </tbody>\n",
       "</table>\n",
       "</div>"
      ],
      "text/plain": [
       "          hacker_id           similar  score\n",
       "0  00004cf8b853ad0d  08a5f5f58fe5f586      0\n",
       "1  00004cf8b853ad0d  3411e4e6add2b8e4      0\n",
       "2  00004cf8b853ad0d  366684b779574e86      0\n",
       "3  00004cf8b853ad0d  ab1bdad8537b85cd      0\n",
       "4  00004cf8b853ad0d  c3647a9292e553b9      0"
      ]
     },
     "execution_count": 148,
     "metadata": {},
     "output_type": "execute_result"
    }
   ],
   "source": [
    "u = u.rename(columns={\"challenge_id\":\"similar\"})\n",
    "u.head()"
   ]
  },
  {
   "cell_type": "code",
   "execution_count": 149,
   "metadata": {
    "collapsed": true
   },
   "outputs": [],
   "source": [
    "final = pd.concat((final,u),ignore_index=True)"
   ]
  },
  {
   "cell_type": "code",
   "execution_count": 150,
   "metadata": {
    "collapsed": false
   },
   "outputs": [
    {
     "name": "stderr",
     "output_type": "stream",
     "text": [
      "C:\\Users\\Prashanth.S\\AppData\\Local\\Continuum\\Anaconda2\\lib\\site-packages\\ipykernel\\__main__.py:1: FutureWarning: sort(columns=....) is deprecated, use sort_values(by=.....)\n",
      "  if __name__ == '__main__':\n"
     ]
    }
   ],
   "source": [
    "final =final.sort(['hacker_id','score'], ascending=[False,False]) \n",
    "final1 = final.groupby('hacker_id').head(10).reset_index(drop=True) "
   ]
  },
  {
   "cell_type": "code",
   "execution_count": 151,
   "metadata": {
    "collapsed": false
   },
   "outputs": [
    {
     "data": {
      "text/html": [
       "<div>\n",
       "<table border=\"1\" class=\"dataframe\">\n",
       "  <thead>\n",
       "    <tr style=\"text-align: right;\">\n",
       "      <th></th>\n",
       "      <th>count(distinct hacker_id)</th>\n",
       "    </tr>\n",
       "  </thead>\n",
       "  <tbody>\n",
       "    <tr>\n",
       "      <th>0</th>\n",
       "      <td>9679</td>\n",
       "    </tr>\n",
       "  </tbody>\n",
       "</table>\n",
       "</div>"
      ],
      "text/plain": [
       "   count(distinct hacker_id)\n",
       "0                       9679"
      ]
     },
     "execution_count": 151,
     "metadata": {},
     "output_type": "execute_result"
    }
   ],
   "source": [
    "pysqldf(\"select count(distinct hacker_id) from final1\")"
   ]
  },
  {
   "cell_type": "code",
   "execution_count": 152,
   "metadata": {
    "collapsed": false
   },
   "outputs": [
    {
     "data": {
      "text/plain": [
       "(96761, 3)"
      ]
     },
     "execution_count": 152,
     "metadata": {},
     "output_type": "execute_result"
    }
   ],
   "source": [
    "final1.shape"
   ]
  },
  {
   "cell_type": "markdown",
   "metadata": {},
   "source": [
    "## Recommendation"
   ]
  },
  {
   "cell_type": "code",
   "execution_count": 153,
   "metadata": {
    "collapsed": false
   },
   "outputs": [
    {
     "data": {
      "text/html": [
       "<div>\n",
       "<table border=\"1\" class=\"dataframe\">\n",
       "  <thead>\n",
       "    <tr style=\"text-align: right;\">\n",
       "      <th></th>\n",
       "      <th>hacker_id</th>\n",
       "      <th>challenge_id</th>\n",
       "      <th>Solved</th>\n",
       "    </tr>\n",
       "  </thead>\n",
       "  <tbody>\n",
       "    <tr>\n",
       "      <th>0</th>\n",
       "      <td>00004cf8b853ad0d</td>\n",
       "      <td>08a5f5f58fe5f586</td>\n",
       "      <td>0</td>\n",
       "    </tr>\n",
       "    <tr>\n",
       "      <th>1</th>\n",
       "      <td>00004cf8b853ad0d</td>\n",
       "      <td>3411e4e6add2b8e4</td>\n",
       "      <td>0</td>\n",
       "    </tr>\n",
       "    <tr>\n",
       "      <th>2</th>\n",
       "      <td>00004cf8b853ad0d</td>\n",
       "      <td>366684b779574e86</td>\n",
       "      <td>0</td>\n",
       "    </tr>\n",
       "    <tr>\n",
       "      <th>3</th>\n",
       "      <td>00004cf8b853ad0d</td>\n",
       "      <td>ab1bdad8537b85cd</td>\n",
       "      <td>0</td>\n",
       "    </tr>\n",
       "    <tr>\n",
       "      <th>4</th>\n",
       "      <td>00004cf8b853ad0d</td>\n",
       "      <td>c3647a9292e553b9</td>\n",
       "      <td>0</td>\n",
       "    </tr>\n",
       "  </tbody>\n",
       "</table>\n",
       "</div>"
      ],
      "text/plain": [
       "          hacker_id      challenge_id  Solved\n",
       "0  00004cf8b853ad0d  08a5f5f58fe5f586       0\n",
       "1  00004cf8b853ad0d  3411e4e6add2b8e4       0\n",
       "2  00004cf8b853ad0d  366684b779574e86       0\n",
       "3  00004cf8b853ad0d  ab1bdad8537b85cd       0\n",
       "4  00004cf8b853ad0d  c3647a9292e553b9       0"
      ]
     },
     "execution_count": 153,
     "metadata": {},
     "output_type": "execute_result"
    }
   ],
   "source": [
    "sub1.head()"
   ]
  },
  {
   "cell_type": "code",
   "execution_count": 154,
   "metadata": {
    "collapsed": false
   },
   "outputs": [
    {
     "data": {
      "text/html": [
       "<div>\n",
       "<table border=\"1\" class=\"dataframe\">\n",
       "  <thead>\n",
       "    <tr style=\"text-align: right;\">\n",
       "      <th></th>\n",
       "      <th>challenge_id</th>\n",
       "      <th>contest_id</th>\n",
       "      <th>domain</th>\n",
       "      <th>subdomain</th>\n",
       "      <th>difficulty</th>\n",
       "      <th>solved_submission_count</th>\n",
       "      <th>total_submissions_count</th>\n",
       "    </tr>\n",
       "  </thead>\n",
       "  <tbody>\n",
       "    <tr>\n",
       "      <th>0</th>\n",
       "      <td>18e0a2dad5e127d6</td>\n",
       "      <td>c8ff662c97d345d2</td>\n",
       "      <td>Artificial Intelligence</td>\n",
       "      <td>Bot Building</td>\n",
       "      <td>0.978261</td>\n",
       "      <td>319</td>\n",
       "      <td>655</td>\n",
       "    </tr>\n",
       "    <tr>\n",
       "      <th>1</th>\n",
       "      <td>0251520ace81bc57</td>\n",
       "      <td>c8ff662c97d345d2</td>\n",
       "      <td>Algorithms</td>\n",
       "      <td>Strings</td>\n",
       "      <td>0.894473</td>\n",
       "      <td>765</td>\n",
       "      <td>1267</td>\n",
       "    </tr>\n",
       "    <tr>\n",
       "      <th>2</th>\n",
       "      <td>425f241df843cd89</td>\n",
       "      <td>c8ff662c97d345d2</td>\n",
       "      <td>Algorithms</td>\n",
       "      <td>Strings</td>\n",
       "      <td>0.908853</td>\n",
       "      <td>1247</td>\n",
       "      <td>1864</td>\n",
       "    </tr>\n",
       "    <tr>\n",
       "      <th>3</th>\n",
       "      <td>970eca328814a522</td>\n",
       "      <td>c8ff662c97d345d2</td>\n",
       "      <td>Algorithms</td>\n",
       "      <td>Strings</td>\n",
       "      <td>0.902722</td>\n",
       "      <td>453</td>\n",
       "      <td>835</td>\n",
       "    </tr>\n",
       "    <tr>\n",
       "      <th>4</th>\n",
       "      <td>46592c29655cfc5e</td>\n",
       "      <td>c8ff662c97d345d2</td>\n",
       "      <td>Algorithms</td>\n",
       "      <td>Strings</td>\n",
       "      <td>0.900000</td>\n",
       "      <td>312</td>\n",
       "      <td>1363</td>\n",
       "    </tr>\n",
       "  </tbody>\n",
       "</table>\n",
       "</div>"
      ],
      "text/plain": [
       "       challenge_id        contest_id                   domain     subdomain  \\\n",
       "0  18e0a2dad5e127d6  c8ff662c97d345d2  Artificial Intelligence  Bot Building   \n",
       "1  0251520ace81bc57  c8ff662c97d345d2               Algorithms       Strings   \n",
       "2  425f241df843cd89  c8ff662c97d345d2               Algorithms       Strings   \n",
       "3  970eca328814a522  c8ff662c97d345d2               Algorithms       Strings   \n",
       "4  46592c29655cfc5e  c8ff662c97d345d2               Algorithms       Strings   \n",
       "\n",
       "   difficulty  solved_submission_count  total_submissions_count  \n",
       "0    0.978261                      319                      655  \n",
       "1    0.894473                      765                     1267  \n",
       "2    0.908853                     1247                     1864  \n",
       "3    0.902722                      453                      835  \n",
       "4    0.900000                      312                     1363  "
      ]
     },
     "execution_count": 154,
     "metadata": {},
     "output_type": "execute_result"
    }
   ],
   "source": [
    "chal.head()"
   ]
  },
  {
   "cell_type": "code",
   "execution_count": 155,
   "metadata": {
    "collapsed": true
   },
   "outputs": [],
   "source": [
    "chal1 = chal[['challenge_id','domain']]"
   ]
  },
  {
   "cell_type": "code",
   "execution_count": 156,
   "metadata": {
    "collapsed": true
   },
   "outputs": [],
   "source": [
    "s1 = pd.merge(sub1,chal1,on='challenge_id',how='inner')"
   ]
  },
  {
   "cell_type": "code",
   "execution_count": 157,
   "metadata": {
    "collapsed": false
   },
   "outputs": [
    {
     "data": {
      "text/html": [
       "<div>\n",
       "<table border=\"1\" class=\"dataframe\">\n",
       "  <thead>\n",
       "    <tr style=\"text-align: right;\">\n",
       "      <th></th>\n",
       "      <th>hacker_id</th>\n",
       "      <th>challenge_id</th>\n",
       "      <th>Solved</th>\n",
       "      <th>domain</th>\n",
       "    </tr>\n",
       "  </thead>\n",
       "  <tbody>\n",
       "    <tr>\n",
       "      <th>0</th>\n",
       "      <td>00004cf8b853ad0d</td>\n",
       "      <td>08a5f5f58fe5f586</td>\n",
       "      <td>0</td>\n",
       "      <td>Algorithms</td>\n",
       "    </tr>\n",
       "    <tr>\n",
       "      <th>1</th>\n",
       "      <td>00004cf8b853ad0d</td>\n",
       "      <td>08a5f5f58fe5f586</td>\n",
       "      <td>0</td>\n",
       "      <td>NaN</td>\n",
       "    </tr>\n",
       "    <tr>\n",
       "      <th>2</th>\n",
       "      <td>00004cf8b853ad0d</td>\n",
       "      <td>08a5f5f58fe5f586</td>\n",
       "      <td>0</td>\n",
       "      <td>NaN</td>\n",
       "    </tr>\n",
       "    <tr>\n",
       "      <th>3</th>\n",
       "      <td>00fa5c4f8a24fc37</td>\n",
       "      <td>08a5f5f58fe5f586</td>\n",
       "      <td>1</td>\n",
       "      <td>Algorithms</td>\n",
       "    </tr>\n",
       "    <tr>\n",
       "      <th>4</th>\n",
       "      <td>00fa5c4f8a24fc37</td>\n",
       "      <td>08a5f5f58fe5f586</td>\n",
       "      <td>1</td>\n",
       "      <td>NaN</td>\n",
       "    </tr>\n",
       "  </tbody>\n",
       "</table>\n",
       "</div>"
      ],
      "text/plain": [
       "          hacker_id      challenge_id  Solved      domain\n",
       "0  00004cf8b853ad0d  08a5f5f58fe5f586       0  Algorithms\n",
       "1  00004cf8b853ad0d  08a5f5f58fe5f586       0         NaN\n",
       "2  00004cf8b853ad0d  08a5f5f58fe5f586       0         NaN\n",
       "3  00fa5c4f8a24fc37  08a5f5f58fe5f586       1  Algorithms\n",
       "4  00fa5c4f8a24fc37  08a5f5f58fe5f586       1         NaN"
      ]
     },
     "execution_count": 157,
     "metadata": {},
     "output_type": "execute_result"
    }
   ],
   "source": [
    "s1.head()"
   ]
  },
  {
   "cell_type": "code",
   "execution_count": 158,
   "metadata": {
    "collapsed": false
   },
   "outputs": [],
   "source": [
    "s2 = s1[['hacker_id','domain']]"
   ]
  },
  {
   "cell_type": "code",
   "execution_count": 159,
   "metadata": {
    "collapsed": false
   },
   "outputs": [
    {
     "data": {
      "text/html": [
       "<div>\n",
       "<table border=\"1\" class=\"dataframe\">\n",
       "  <thead>\n",
       "    <tr style=\"text-align: right;\">\n",
       "      <th></th>\n",
       "      <th>hacker_id</th>\n",
       "      <th>domain</th>\n",
       "    </tr>\n",
       "  </thead>\n",
       "  <tbody>\n",
       "    <tr>\n",
       "      <th>0</th>\n",
       "      <td>00004cf8b853ad0d</td>\n",
       "      <td>Algorithms</td>\n",
       "    </tr>\n",
       "    <tr>\n",
       "      <th>1</th>\n",
       "      <td>00004cf8b853ad0d</td>\n",
       "      <td>NaN</td>\n",
       "    </tr>\n",
       "    <tr>\n",
       "      <th>2</th>\n",
       "      <td>00004cf8b853ad0d</td>\n",
       "      <td>NaN</td>\n",
       "    </tr>\n",
       "    <tr>\n",
       "      <th>3</th>\n",
       "      <td>00fa5c4f8a24fc37</td>\n",
       "      <td>Algorithms</td>\n",
       "    </tr>\n",
       "    <tr>\n",
       "      <th>4</th>\n",
       "      <td>00fa5c4f8a24fc37</td>\n",
       "      <td>NaN</td>\n",
       "    </tr>\n",
       "  </tbody>\n",
       "</table>\n",
       "</div>"
      ],
      "text/plain": [
       "          hacker_id      domain\n",
       "0  00004cf8b853ad0d  Algorithms\n",
       "1  00004cf8b853ad0d         NaN\n",
       "2  00004cf8b853ad0d         NaN\n",
       "3  00fa5c4f8a24fc37  Algorithms\n",
       "4  00fa5c4f8a24fc37         NaN"
      ]
     },
     "execution_count": 159,
     "metadata": {},
     "output_type": "execute_result"
    }
   ],
   "source": [
    "s2.head()"
   ]
  },
  {
   "cell_type": "code",
   "execution_count": 160,
   "metadata": {
    "collapsed": false
   },
   "outputs": [],
   "source": [
    "s2 = s2.fillna('No')"
   ]
  },
  {
   "cell_type": "code",
   "execution_count": 161,
   "metadata": {
    "collapsed": false
   },
   "outputs": [],
   "source": [
    "s2['count'] = 1"
   ]
  },
  {
   "cell_type": "code",
   "execution_count": 162,
   "metadata": {
    "collapsed": false
   },
   "outputs": [
    {
     "data": {
      "text/html": [
       "<div>\n",
       "<table border=\"1\" class=\"dataframe\">\n",
       "  <thead>\n",
       "    <tr style=\"text-align: right;\">\n",
       "      <th></th>\n",
       "      <th>hacker_id</th>\n",
       "      <th>domain</th>\n",
       "      <th>count</th>\n",
       "    </tr>\n",
       "  </thead>\n",
       "  <tbody>\n",
       "    <tr>\n",
       "      <th>0</th>\n",
       "      <td>00004cf8b853ad0d</td>\n",
       "      <td>Algorithms</td>\n",
       "      <td>1</td>\n",
       "    </tr>\n",
       "    <tr>\n",
       "      <th>1</th>\n",
       "      <td>00004cf8b853ad0d</td>\n",
       "      <td>No</td>\n",
       "      <td>1</td>\n",
       "    </tr>\n",
       "    <tr>\n",
       "      <th>2</th>\n",
       "      <td>00004cf8b853ad0d</td>\n",
       "      <td>No</td>\n",
       "      <td>1</td>\n",
       "    </tr>\n",
       "    <tr>\n",
       "      <th>3</th>\n",
       "      <td>00fa5c4f8a24fc37</td>\n",
       "      <td>Algorithms</td>\n",
       "      <td>1</td>\n",
       "    </tr>\n",
       "    <tr>\n",
       "      <th>4</th>\n",
       "      <td>00fa5c4f8a24fc37</td>\n",
       "      <td>No</td>\n",
       "      <td>1</td>\n",
       "    </tr>\n",
       "  </tbody>\n",
       "</table>\n",
       "</div>"
      ],
      "text/plain": [
       "          hacker_id      domain  count\n",
       "0  00004cf8b853ad0d  Algorithms      1\n",
       "1  00004cf8b853ad0d          No      1\n",
       "2  00004cf8b853ad0d          No      1\n",
       "3  00fa5c4f8a24fc37  Algorithms      1\n",
       "4  00fa5c4f8a24fc37          No      1"
      ]
     },
     "execution_count": 162,
     "metadata": {},
     "output_type": "execute_result"
    }
   ],
   "source": [
    "s2.head()"
   ]
  },
  {
   "cell_type": "code",
   "execution_count": 163,
   "metadata": {
    "collapsed": true
   },
   "outputs": [],
   "source": [
    "s3 = pysqldf(\"select hacker_id,domain,sum(count) as count from s2 group by hacker_id,domain\")"
   ]
  },
  {
   "cell_type": "code",
   "execution_count": 164,
   "metadata": {
    "collapsed": false
   },
   "outputs": [
    {
     "data": {
      "text/html": [
       "<div>\n",
       "<table border=\"1\" class=\"dataframe\">\n",
       "  <thead>\n",
       "    <tr style=\"text-align: right;\">\n",
       "      <th></th>\n",
       "      <th>hacker_id</th>\n",
       "      <th>domain</th>\n",
       "      <th>count</th>\n",
       "    </tr>\n",
       "  </thead>\n",
       "  <tbody>\n",
       "    <tr>\n",
       "      <th>0</th>\n",
       "      <td>00004cf8b853ad0d</td>\n",
       "      <td>Algorithms</td>\n",
       "      <td>5</td>\n",
       "    </tr>\n",
       "    <tr>\n",
       "      <th>1</th>\n",
       "      <td>00004cf8b853ad0d</td>\n",
       "      <td>No</td>\n",
       "      <td>3</td>\n",
       "    </tr>\n",
       "    <tr>\n",
       "      <th>2</th>\n",
       "      <td>00010020d9cd62a0</td>\n",
       "      <td>Algorithms</td>\n",
       "      <td>5</td>\n",
       "    </tr>\n",
       "    <tr>\n",
       "      <th>3</th>\n",
       "      <td>00010020d9cd62a0</td>\n",
       "      <td>No</td>\n",
       "      <td>11</td>\n",
       "    </tr>\n",
       "    <tr>\n",
       "      <th>4</th>\n",
       "      <td>00010020d9cd62a0</td>\n",
       "      <td>Python</td>\n",
       "      <td>20</td>\n",
       "    </tr>\n",
       "  </tbody>\n",
       "</table>\n",
       "</div>"
      ],
      "text/plain": [
       "          hacker_id      domain  count\n",
       "0  00004cf8b853ad0d  Algorithms      5\n",
       "1  00004cf8b853ad0d          No      3\n",
       "2  00010020d9cd62a0  Algorithms      5\n",
       "3  00010020d9cd62a0          No     11\n",
       "4  00010020d9cd62a0      Python     20"
      ]
     },
     "execution_count": 164,
     "metadata": {},
     "output_type": "execute_result"
    }
   ],
   "source": [
    "s3.head()"
   ]
  },
  {
   "cell_type": "code",
   "execution_count": 165,
   "metadata": {
    "collapsed": false
   },
   "outputs": [],
   "source": [
    "s3.loc[s3['domain']=='No','count']=s3[s3['domain']=='No']['count']/2"
   ]
  },
  {
   "cell_type": "code",
   "execution_count": 166,
   "metadata": {
    "collapsed": false
   },
   "outputs": [
    {
     "data": {
      "text/html": [
       "<div>\n",
       "<table border=\"1\" class=\"dataframe\">\n",
       "  <thead>\n",
       "    <tr style=\"text-align: right;\">\n",
       "      <th></th>\n",
       "      <th>hacker_id</th>\n",
       "      <th>domain</th>\n",
       "      <th>count</th>\n",
       "    </tr>\n",
       "  </thead>\n",
       "  <tbody>\n",
       "    <tr>\n",
       "      <th>0</th>\n",
       "      <td>00004cf8b853ad0d</td>\n",
       "      <td>Algorithms</td>\n",
       "      <td>5.0</td>\n",
       "    </tr>\n",
       "    <tr>\n",
       "      <th>1</th>\n",
       "      <td>00004cf8b853ad0d</td>\n",
       "      <td>No</td>\n",
       "      <td>1.5</td>\n",
       "    </tr>\n",
       "    <tr>\n",
       "      <th>2</th>\n",
       "      <td>00010020d9cd62a0</td>\n",
       "      <td>Algorithms</td>\n",
       "      <td>5.0</td>\n",
       "    </tr>\n",
       "    <tr>\n",
       "      <th>3</th>\n",
       "      <td>00010020d9cd62a0</td>\n",
       "      <td>No</td>\n",
       "      <td>5.5</td>\n",
       "    </tr>\n",
       "    <tr>\n",
       "      <th>4</th>\n",
       "      <td>00010020d9cd62a0</td>\n",
       "      <td>Python</td>\n",
       "      <td>20.0</td>\n",
       "    </tr>\n",
       "  </tbody>\n",
       "</table>\n",
       "</div>"
      ],
      "text/plain": [
       "          hacker_id      domain  count\n",
       "0  00004cf8b853ad0d  Algorithms    5.0\n",
       "1  00004cf8b853ad0d          No    1.5\n",
       "2  00010020d9cd62a0  Algorithms    5.0\n",
       "3  00010020d9cd62a0          No    5.5\n",
       "4  00010020d9cd62a0      Python   20.0"
      ]
     },
     "execution_count": 166,
     "metadata": {},
     "output_type": "execute_result"
    }
   ],
   "source": [
    "s3.head()"
   ]
  },
  {
   "cell_type": "code",
   "execution_count": 167,
   "metadata": {
    "collapsed": false
   },
   "outputs": [
    {
     "name": "stderr",
     "output_type": "stream",
     "text": [
      "C:\\Users\\Prashanth.S\\AppData\\Local\\Continuum\\Anaconda2\\lib\\site-packages\\ipykernel\\__main__.py:1: FutureWarning: sort(columns=....) is deprecated, use sort_values(by=.....)\n",
      "  if __name__ == '__main__':\n"
     ]
    }
   ],
   "source": [
    "s3=s3.sort(['hacker_id','count'], ascending=[False,False]) "
   ]
  },
  {
   "cell_type": "code",
   "execution_count": 168,
   "metadata": {
    "collapsed": false
   },
   "outputs": [
    {
     "data": {
      "text/html": [
       "<div>\n",
       "<table border=\"1\" class=\"dataframe\">\n",
       "  <thead>\n",
       "    <tr style=\"text-align: right;\">\n",
       "      <th></th>\n",
       "      <th>hacker_id</th>\n",
       "      <th>domain</th>\n",
       "      <th>count</th>\n",
       "    </tr>\n",
       "  </thead>\n",
       "  <tbody>\n",
       "    <tr>\n",
       "      <th>26285</th>\n",
       "      <td>fffcfd13f3e0969d</td>\n",
       "      <td>Algorithms</td>\n",
       "      <td>16.0</td>\n",
       "    </tr>\n",
       "    <tr>\n",
       "      <th>26286</th>\n",
       "      <td>fffcfd13f3e0969d</td>\n",
       "      <td>No</td>\n",
       "      <td>4.5</td>\n",
       "    </tr>\n",
       "    <tr>\n",
       "      <th>26283</th>\n",
       "      <td>ffe228e656e5cbbd</td>\n",
       "      <td>Algorithms</td>\n",
       "      <td>2.0</td>\n",
       "    </tr>\n",
       "    <tr>\n",
       "      <th>26284</th>\n",
       "      <td>ffe228e656e5cbbd</td>\n",
       "      <td>No</td>\n",
       "      <td>1.0</td>\n",
       "    </tr>\n",
       "    <tr>\n",
       "      <th>26282</th>\n",
       "      <td>ffe0dff4db6deb6e</td>\n",
       "      <td>Tutorials</td>\n",
       "      <td>12.0</td>\n",
       "    </tr>\n",
       "  </tbody>\n",
       "</table>\n",
       "</div>"
      ],
      "text/plain": [
       "              hacker_id      domain  count\n",
       "26285  fffcfd13f3e0969d  Algorithms   16.0\n",
       "26286  fffcfd13f3e0969d          No    4.5\n",
       "26283  ffe228e656e5cbbd  Algorithms    2.0\n",
       "26284  ffe228e656e5cbbd          No    1.0\n",
       "26282  ffe0dff4db6deb6e   Tutorials   12.0"
      ]
     },
     "execution_count": 168,
     "metadata": {},
     "output_type": "execute_result"
    }
   ],
   "source": [
    "s3.head()"
   ]
  },
  {
   "cell_type": "code",
   "execution_count": 169,
   "metadata": {
    "collapsed": false
   },
   "outputs": [],
   "source": [
    "s4=s3.groupby('hacker_id').head(1).reset_index(drop=True) "
   ]
  },
  {
   "cell_type": "code",
   "execution_count": 170,
   "metadata": {
    "collapsed": false
   },
   "outputs": [
    {
     "data": {
      "text/html": [
       "<div>\n",
       "<table border=\"1\" class=\"dataframe\">\n",
       "  <thead>\n",
       "    <tr style=\"text-align: right;\">\n",
       "      <th></th>\n",
       "      <th>hacker_id</th>\n",
       "      <th>domain</th>\n",
       "      <th>count</th>\n",
       "    </tr>\n",
       "  </thead>\n",
       "  <tbody>\n",
       "    <tr>\n",
       "      <th>0</th>\n",
       "      <td>fffcfd13f3e0969d</td>\n",
       "      <td>Algorithms</td>\n",
       "      <td>16.0</td>\n",
       "    </tr>\n",
       "    <tr>\n",
       "      <th>1</th>\n",
       "      <td>ffe228e656e5cbbd</td>\n",
       "      <td>Algorithms</td>\n",
       "      <td>2.0</td>\n",
       "    </tr>\n",
       "    <tr>\n",
       "      <th>2</th>\n",
       "      <td>ffe0dff4db6deb6e</td>\n",
       "      <td>Tutorials</td>\n",
       "      <td>12.0</td>\n",
       "    </tr>\n",
       "    <tr>\n",
       "      <th>3</th>\n",
       "      <td>ffd6eaaf3d7138e0</td>\n",
       "      <td>Algorithms</td>\n",
       "      <td>1.0</td>\n",
       "    </tr>\n",
       "    <tr>\n",
       "      <th>4</th>\n",
       "      <td>ffcae6424b43fbb2</td>\n",
       "      <td>Algorithms</td>\n",
       "      <td>1.0</td>\n",
       "    </tr>\n",
       "  </tbody>\n",
       "</table>\n",
       "</div>"
      ],
      "text/plain": [
       "          hacker_id      domain  count\n",
       "0  fffcfd13f3e0969d  Algorithms   16.0\n",
       "1  ffe228e656e5cbbd  Algorithms    2.0\n",
       "2  ffe0dff4db6deb6e   Tutorials   12.0\n",
       "3  ffd6eaaf3d7138e0  Algorithms    1.0\n",
       "4  ffcae6424b43fbb2  Algorithms    1.0"
      ]
     },
     "execution_count": 170,
     "metadata": {},
     "output_type": "execute_result"
    }
   ],
   "source": [
    "s4.head()"
   ]
  },
  {
   "cell_type": "code",
   "execution_count": 171,
   "metadata": {
    "collapsed": false
   },
   "outputs": [
    {
     "data": {
      "text/plain": [
       "(10000, 3)"
      ]
     },
     "execution_count": 171,
     "metadata": {},
     "output_type": "execute_result"
    }
   ],
   "source": [
    "s4.shape"
   ]
  },
  {
   "cell_type": "code",
   "execution_count": 172,
   "metadata": {
    "collapsed": false
   },
   "outputs": [
    {
     "data": {
      "text/html": [
       "<div>\n",
       "<table border=\"1\" class=\"dataframe\">\n",
       "  <thead>\n",
       "    <tr style=\"text-align: right;\">\n",
       "      <th></th>\n",
       "      <th>hacker_id</th>\n",
       "      <th>domain</th>\n",
       "      <th>count</th>\n",
       "    </tr>\n",
       "  </thead>\n",
       "  <tbody>\n",
       "    <tr>\n",
       "      <th>0</th>\n",
       "      <td>00004cf8b853ad0d</td>\n",
       "      <td>Algorithms</td>\n",
       "      <td>1</td>\n",
       "    </tr>\n",
       "    <tr>\n",
       "      <th>1</th>\n",
       "      <td>00004cf8b853ad0d</td>\n",
       "      <td>No</td>\n",
       "      <td>1</td>\n",
       "    </tr>\n",
       "    <tr>\n",
       "      <th>2</th>\n",
       "      <td>00004cf8b853ad0d</td>\n",
       "      <td>No</td>\n",
       "      <td>1</td>\n",
       "    </tr>\n",
       "    <tr>\n",
       "      <th>3</th>\n",
       "      <td>00fa5c4f8a24fc37</td>\n",
       "      <td>Algorithms</td>\n",
       "      <td>1</td>\n",
       "    </tr>\n",
       "    <tr>\n",
       "      <th>4</th>\n",
       "      <td>00fa5c4f8a24fc37</td>\n",
       "      <td>No</td>\n",
       "      <td>1</td>\n",
       "    </tr>\n",
       "  </tbody>\n",
       "</table>\n",
       "</div>"
      ],
      "text/plain": [
       "          hacker_id      domain  count\n",
       "0  00004cf8b853ad0d  Algorithms      1\n",
       "1  00004cf8b853ad0d          No      1\n",
       "2  00004cf8b853ad0d          No      1\n",
       "3  00fa5c4f8a24fc37  Algorithms      1\n",
       "4  00fa5c4f8a24fc37          No      1"
      ]
     },
     "execution_count": 172,
     "metadata": {},
     "output_type": "execute_result"
    }
   ],
   "source": [
    "s2.head()"
   ]
  },
  {
   "cell_type": "code",
   "execution_count": 173,
   "metadata": {
    "collapsed": true
   },
   "outputs": [],
   "source": [
    "s3 = pysqldf(\"select hacker_id,domain,sum(count) as count from s2 group by hacker_id,domain\")"
   ]
  },
  {
   "cell_type": "code",
   "execution_count": 174,
   "metadata": {
    "collapsed": false
   },
   "outputs": [
    {
     "data": {
      "text/html": [
       "<div>\n",
       "<table border=\"1\" class=\"dataframe\">\n",
       "  <thead>\n",
       "    <tr style=\"text-align: right;\">\n",
       "      <th></th>\n",
       "      <th>hacker_id</th>\n",
       "      <th>domain</th>\n",
       "      <th>count</th>\n",
       "    </tr>\n",
       "  </thead>\n",
       "  <tbody>\n",
       "    <tr>\n",
       "      <th>0</th>\n",
       "      <td>00004cf8b853ad0d</td>\n",
       "      <td>Algorithms</td>\n",
       "      <td>5</td>\n",
       "    </tr>\n",
       "    <tr>\n",
       "      <th>1</th>\n",
       "      <td>00004cf8b853ad0d</td>\n",
       "      <td>No</td>\n",
       "      <td>3</td>\n",
       "    </tr>\n",
       "    <tr>\n",
       "      <th>2</th>\n",
       "      <td>00010020d9cd62a0</td>\n",
       "      <td>Algorithms</td>\n",
       "      <td>5</td>\n",
       "    </tr>\n",
       "    <tr>\n",
       "      <th>3</th>\n",
       "      <td>00010020d9cd62a0</td>\n",
       "      <td>No</td>\n",
       "      <td>11</td>\n",
       "    </tr>\n",
       "    <tr>\n",
       "      <th>4</th>\n",
       "      <td>00010020d9cd62a0</td>\n",
       "      <td>Python</td>\n",
       "      <td>20</td>\n",
       "    </tr>\n",
       "  </tbody>\n",
       "</table>\n",
       "</div>"
      ],
      "text/plain": [
       "          hacker_id      domain  count\n",
       "0  00004cf8b853ad0d  Algorithms      5\n",
       "1  00004cf8b853ad0d          No      3\n",
       "2  00010020d9cd62a0  Algorithms      5\n",
       "3  00010020d9cd62a0          No     11\n",
       "4  00010020d9cd62a0      Python     20"
      ]
     },
     "execution_count": 174,
     "metadata": {},
     "output_type": "execute_result"
    }
   ],
   "source": [
    "s3.head()"
   ]
  },
  {
   "cell_type": "code",
   "execution_count": 175,
   "metadata": {
    "collapsed": false
   },
   "outputs": [],
   "source": [
    "chal2 = pysqldf(\" select challenge_id,domain,solved_submission_count from chal where contest_id = 'c8ff662c97d345d2' group by challenge_id\")"
   ]
  },
  {
   "cell_type": "code",
   "execution_count": 176,
   "metadata": {
    "collapsed": false
   },
   "outputs": [
    {
     "name": "stderr",
     "output_type": "stream",
     "text": [
      "C:\\Users\\Prashanth.S\\AppData\\Local\\Continuum\\Anaconda2\\lib\\site-packages\\ipykernel\\__main__.py:1: FutureWarning: sort(columns=....) is deprecated, use sort_values(by=.....)\n",
      "  if __name__ == '__main__':\n"
     ]
    }
   ],
   "source": [
    "chal2=chal2.sort(['domain','solved_submission_count'], ascending=[True,False]) "
   ]
  },
  {
   "cell_type": "code",
   "execution_count": 177,
   "metadata": {
    "collapsed": true
   },
   "outputs": [],
   "source": [
    "chal3 = chal2.groupby('domain').head(10).reset_index(drop=True) "
   ]
  },
  {
   "cell_type": "code",
   "execution_count": 178,
   "metadata": {
    "collapsed": false
   },
   "outputs": [
    {
     "data": {
      "text/plain": [
       "Artificial Intelligence    10\n",
       "Ruby                       10\n",
       "Security                   10\n",
       "Distributed Systems        10\n",
       "Tutorials                  10\n",
       "Databases                  10\n",
       "Algorithms                 10\n",
       "Data Structures            10\n",
       "Mathematics                10\n",
       "C++                        10\n",
       "Functional Programming     10\n",
       "Python                     10\n",
       "SQL                        10\n",
       "Java                       10\n",
       "Linux Shell                10\n",
       "Regex                      10\n",
       "Name: domain, dtype: int64"
      ]
     },
     "execution_count": 178,
     "metadata": {},
     "output_type": "execute_result"
    }
   ],
   "source": [
    "pd.Series.value_counts(chal3['domain'])"
   ]
  },
  {
   "cell_type": "code",
   "execution_count": 179,
   "metadata": {
    "collapsed": false
   },
   "outputs": [
    {
     "data": {
      "text/plain": [
       "(170, 3)"
      ]
     },
     "execution_count": 179,
     "metadata": {},
     "output_type": "execute_result"
    }
   ],
   "source": [
    "chal3.shape"
   ]
  },
  {
   "cell_type": "code",
   "execution_count": 180,
   "metadata": {
    "collapsed": false
   },
   "outputs": [],
   "source": [
    "chal3 = chal3.fillna('No')"
   ]
  },
  {
   "cell_type": "code",
   "execution_count": 181,
   "metadata": {
    "collapsed": false
   },
   "outputs": [
    {
     "data": {
      "text/html": [
       "<div>\n",
       "<table border=\"1\" class=\"dataframe\">\n",
       "  <thead>\n",
       "    <tr style=\"text-align: right;\">\n",
       "      <th></th>\n",
       "      <th>challenge_id</th>\n",
       "      <th>domain</th>\n",
       "      <th>solved_submission_count</th>\n",
       "    </tr>\n",
       "  </thead>\n",
       "  <tbody>\n",
       "    <tr>\n",
       "      <th>0</th>\n",
       "      <td>7e860acda8697471</td>\n",
       "      <td>Algorithms</td>\n",
       "      <td>3769</td>\n",
       "    </tr>\n",
       "    <tr>\n",
       "      <th>1</th>\n",
       "      <td>0ea21bb9feaf46c8</td>\n",
       "      <td>Algorithms</td>\n",
       "      <td>3572</td>\n",
       "    </tr>\n",
       "    <tr>\n",
       "      <th>2</th>\n",
       "      <td>55f8a66f057a7e76</td>\n",
       "      <td>Algorithms</td>\n",
       "      <td>2938</td>\n",
       "    </tr>\n",
       "    <tr>\n",
       "      <th>3</th>\n",
       "      <td>c9713aed1d68c5b5</td>\n",
       "      <td>Algorithms</td>\n",
       "      <td>2675</td>\n",
       "    </tr>\n",
       "    <tr>\n",
       "      <th>4</th>\n",
       "      <td>34386eca594b7bc2</td>\n",
       "      <td>Algorithms</td>\n",
       "      <td>2631</td>\n",
       "    </tr>\n",
       "    <tr>\n",
       "      <th>5</th>\n",
       "      <td>feb666a0b4f1d685</td>\n",
       "      <td>Algorithms</td>\n",
       "      <td>2367</td>\n",
       "    </tr>\n",
       "    <tr>\n",
       "      <th>6</th>\n",
       "      <td>b49bb8ec9c2b8481</td>\n",
       "      <td>Algorithms</td>\n",
       "      <td>1908</td>\n",
       "    </tr>\n",
       "    <tr>\n",
       "      <th>7</th>\n",
       "      <td>26c95b75d8237f39</td>\n",
       "      <td>Algorithms</td>\n",
       "      <td>1781</td>\n",
       "    </tr>\n",
       "    <tr>\n",
       "      <th>8</th>\n",
       "      <td>76fba8ff25f765b6</td>\n",
       "      <td>Algorithms</td>\n",
       "      <td>1525</td>\n",
       "    </tr>\n",
       "    <tr>\n",
       "      <th>9</th>\n",
       "      <td>425f241df843cd89</td>\n",
       "      <td>Algorithms</td>\n",
       "      <td>1247</td>\n",
       "    </tr>\n",
       "    <tr>\n",
       "      <th>10</th>\n",
       "      <td>18e0a2dad5e127d6</td>\n",
       "      <td>Artificial Intelligence</td>\n",
       "      <td>319</td>\n",
       "    </tr>\n",
       "    <tr>\n",
       "      <th>11</th>\n",
       "      <td>a9e66e4908fb003d</td>\n",
       "      <td>Artificial Intelligence</td>\n",
       "      <td>240</td>\n",
       "    </tr>\n",
       "    <tr>\n",
       "      <th>12</th>\n",
       "      <td>4258057ce615b031</td>\n",
       "      <td>Artificial Intelligence</td>\n",
       "      <td>113</td>\n",
       "    </tr>\n",
       "    <tr>\n",
       "      <th>13</th>\n",
       "      <td>3ea1501e8ebd647b</td>\n",
       "      <td>Artificial Intelligence</td>\n",
       "      <td>80</td>\n",
       "    </tr>\n",
       "    <tr>\n",
       "      <th>14</th>\n",
       "      <td>19c9320a9c5f841c</td>\n",
       "      <td>Artificial Intelligence</td>\n",
       "      <td>73</td>\n",
       "    </tr>\n",
       "    <tr>\n",
       "      <th>15</th>\n",
       "      <td>566a8b1cff4c7548</td>\n",
       "      <td>Artificial Intelligence</td>\n",
       "      <td>63</td>\n",
       "    </tr>\n",
       "    <tr>\n",
       "      <th>16</th>\n",
       "      <td>7043565902d06976</td>\n",
       "      <td>Artificial Intelligence</td>\n",
       "      <td>61</td>\n",
       "    </tr>\n",
       "    <tr>\n",
       "      <th>17</th>\n",
       "      <td>a1a634218917004f</td>\n",
       "      <td>Artificial Intelligence</td>\n",
       "      <td>55</td>\n",
       "    </tr>\n",
       "    <tr>\n",
       "      <th>18</th>\n",
       "      <td>c74e66ac0fb1e076</td>\n",
       "      <td>Artificial Intelligence</td>\n",
       "      <td>34</td>\n",
       "    </tr>\n",
       "    <tr>\n",
       "      <th>19</th>\n",
       "      <td>690eeeb4d03edc8c</td>\n",
       "      <td>Artificial Intelligence</td>\n",
       "      <td>27</td>\n",
       "    </tr>\n",
       "    <tr>\n",
       "      <th>20</th>\n",
       "      <td>8b70cbd7f8b9a2af</td>\n",
       "      <td>C++</td>\n",
       "      <td>1621</td>\n",
       "    </tr>\n",
       "    <tr>\n",
       "      <th>21</th>\n",
       "      <td>4234a6f798992f02</td>\n",
       "      <td>C++</td>\n",
       "      <td>917</td>\n",
       "    </tr>\n",
       "    <tr>\n",
       "      <th>22</th>\n",
       "      <td>11408b97e53ec7ed</td>\n",
       "      <td>C++</td>\n",
       "      <td>698</td>\n",
       "    </tr>\n",
       "    <tr>\n",
       "      <th>23</th>\n",
       "      <td>07e18856d86b7b31</td>\n",
       "      <td>C++</td>\n",
       "      <td>683</td>\n",
       "    </tr>\n",
       "    <tr>\n",
       "      <th>24</th>\n",
       "      <td>ebc21a6684955a22</td>\n",
       "      <td>C++</td>\n",
       "      <td>604</td>\n",
       "    </tr>\n",
       "    <tr>\n",
       "      <th>25</th>\n",
       "      <td>70f890aca1fe19cb</td>\n",
       "      <td>C++</td>\n",
       "      <td>564</td>\n",
       "    </tr>\n",
       "    <tr>\n",
       "      <th>26</th>\n",
       "      <td>b14017a1a69a0f77</td>\n",
       "      <td>C++</td>\n",
       "      <td>558</td>\n",
       "    </tr>\n",
       "    <tr>\n",
       "      <th>27</th>\n",
       "      <td>4bdd5803ef48637a</td>\n",
       "      <td>C++</td>\n",
       "      <td>420</td>\n",
       "    </tr>\n",
       "    <tr>\n",
       "      <th>28</th>\n",
       "      <td>a177f57b92fd38d6</td>\n",
       "      <td>C++</td>\n",
       "      <td>374</td>\n",
       "    </tr>\n",
       "    <tr>\n",
       "      <th>29</th>\n",
       "      <td>1d7afa1b244e70c9</td>\n",
       "      <td>C++</td>\n",
       "      <td>311</td>\n",
       "    </tr>\n",
       "    <tr>\n",
       "      <th>...</th>\n",
       "      <td>...</td>\n",
       "      <td>...</td>\n",
       "      <td>...</td>\n",
       "    </tr>\n",
       "    <tr>\n",
       "      <th>140</th>\n",
       "      <td>8bc7477c0f6b0e13</td>\n",
       "      <td>Security</td>\n",
       "      <td>190</td>\n",
       "    </tr>\n",
       "    <tr>\n",
       "      <th>141</th>\n",
       "      <td>e5b37867e3d97548</td>\n",
       "      <td>Security</td>\n",
       "      <td>165</td>\n",
       "    </tr>\n",
       "    <tr>\n",
       "      <th>142</th>\n",
       "      <td>20ba2aa7e96473d0</td>\n",
       "      <td>Security</td>\n",
       "      <td>78</td>\n",
       "    </tr>\n",
       "    <tr>\n",
       "      <th>143</th>\n",
       "      <td>3fb5689cca9a4010</td>\n",
       "      <td>Security</td>\n",
       "      <td>56</td>\n",
       "    </tr>\n",
       "    <tr>\n",
       "      <th>144</th>\n",
       "      <td>435f11927d19aa68</td>\n",
       "      <td>Security</td>\n",
       "      <td>49</td>\n",
       "    </tr>\n",
       "    <tr>\n",
       "      <th>145</th>\n",
       "      <td>69ef77b6b1e736c1</td>\n",
       "      <td>Security</td>\n",
       "      <td>47</td>\n",
       "    </tr>\n",
       "    <tr>\n",
       "      <th>146</th>\n",
       "      <td>a6d416e8ded4c7a8</td>\n",
       "      <td>Security</td>\n",
       "      <td>46</td>\n",
       "    </tr>\n",
       "    <tr>\n",
       "      <th>147</th>\n",
       "      <td>32c6fc0efd61b092</td>\n",
       "      <td>Security</td>\n",
       "      <td>41</td>\n",
       "    </tr>\n",
       "    <tr>\n",
       "      <th>148</th>\n",
       "      <td>e330d6cb9768be80</td>\n",
       "      <td>Security</td>\n",
       "      <td>39</td>\n",
       "    </tr>\n",
       "    <tr>\n",
       "      <th>149</th>\n",
       "      <td>b8dc867b6dd40209</td>\n",
       "      <td>Security</td>\n",
       "      <td>28</td>\n",
       "    </tr>\n",
       "    <tr>\n",
       "      <th>150</th>\n",
       "      <td>dcb76def3ced9d7b</td>\n",
       "      <td>Tutorials</td>\n",
       "      <td>2332</td>\n",
       "    </tr>\n",
       "    <tr>\n",
       "      <th>151</th>\n",
       "      <td>fd32207d8c5795ab</td>\n",
       "      <td>Tutorials</td>\n",
       "      <td>1072</td>\n",
       "    </tr>\n",
       "    <tr>\n",
       "      <th>152</th>\n",
       "      <td>4fe2da53074027da</td>\n",
       "      <td>Tutorials</td>\n",
       "      <td>1028</td>\n",
       "    </tr>\n",
       "    <tr>\n",
       "      <th>153</th>\n",
       "      <td>f62ad414720a6b8a</td>\n",
       "      <td>Tutorials</td>\n",
       "      <td>987</td>\n",
       "    </tr>\n",
       "    <tr>\n",
       "      <th>154</th>\n",
       "      <td>baae1c5a760d191f</td>\n",
       "      <td>Tutorials</td>\n",
       "      <td>784</td>\n",
       "    </tr>\n",
       "    <tr>\n",
       "      <th>155</th>\n",
       "      <td>8aadf4d7f7355fb6</td>\n",
       "      <td>Tutorials</td>\n",
       "      <td>741</td>\n",
       "    </tr>\n",
       "    <tr>\n",
       "      <th>156</th>\n",
       "      <td>0f71aee4e0c51f7c</td>\n",
       "      <td>Tutorials</td>\n",
       "      <td>693</td>\n",
       "    </tr>\n",
       "    <tr>\n",
       "      <th>157</th>\n",
       "      <td>06630624f8af0d31</td>\n",
       "      <td>Tutorials</td>\n",
       "      <td>597</td>\n",
       "    </tr>\n",
       "    <tr>\n",
       "      <th>158</th>\n",
       "      <td>fa6ea81f8219bbf0</td>\n",
       "      <td>Tutorials</td>\n",
       "      <td>534</td>\n",
       "    </tr>\n",
       "    <tr>\n",
       "      <th>159</th>\n",
       "      <td>7de92abeb686999e</td>\n",
       "      <td>Tutorials</td>\n",
       "      <td>501</td>\n",
       "    </tr>\n",
       "    <tr>\n",
       "      <th>160</th>\n",
       "      <td>e05e63bcccbafedb</td>\n",
       "      <td>No</td>\n",
       "      <td>2009</td>\n",
       "    </tr>\n",
       "    <tr>\n",
       "      <th>161</th>\n",
       "      <td>67a1b1d6367e38ea</td>\n",
       "      <td>No</td>\n",
       "      <td>526</td>\n",
       "    </tr>\n",
       "    <tr>\n",
       "      <th>162</th>\n",
       "      <td>8433a9019b8006cb</td>\n",
       "      <td>No</td>\n",
       "      <td>319</td>\n",
       "    </tr>\n",
       "    <tr>\n",
       "      <th>163</th>\n",
       "      <td>5ef837b87a38262e</td>\n",
       "      <td>No</td>\n",
       "      <td>209</td>\n",
       "    </tr>\n",
       "    <tr>\n",
       "      <th>164</th>\n",
       "      <td>236dec13a662098a</td>\n",
       "      <td>No</td>\n",
       "      <td>182</td>\n",
       "    </tr>\n",
       "    <tr>\n",
       "      <th>165</th>\n",
       "      <td>8b812c96165a1212</td>\n",
       "      <td>No</td>\n",
       "      <td>120</td>\n",
       "    </tr>\n",
       "    <tr>\n",
       "      <th>166</th>\n",
       "      <td>f563fe8489cc7b6b</td>\n",
       "      <td>No</td>\n",
       "      <td>54</td>\n",
       "    </tr>\n",
       "    <tr>\n",
       "      <th>167</th>\n",
       "      <td>25a5dcb467dacca3</td>\n",
       "      <td>No</td>\n",
       "      <td>48</td>\n",
       "    </tr>\n",
       "    <tr>\n",
       "      <th>168</th>\n",
       "      <td>e8c2bbf12c3fb8b6</td>\n",
       "      <td>No</td>\n",
       "      <td>37</td>\n",
       "    </tr>\n",
       "    <tr>\n",
       "      <th>169</th>\n",
       "      <td>ec6b7862615ece31</td>\n",
       "      <td>No</td>\n",
       "      <td>36</td>\n",
       "    </tr>\n",
       "  </tbody>\n",
       "</table>\n",
       "<p>170 rows × 3 columns</p>\n",
       "</div>"
      ],
      "text/plain": [
       "         challenge_id                   domain  solved_submission_count\n",
       "0    7e860acda8697471               Algorithms                     3769\n",
       "1    0ea21bb9feaf46c8               Algorithms                     3572\n",
       "2    55f8a66f057a7e76               Algorithms                     2938\n",
       "3    c9713aed1d68c5b5               Algorithms                     2675\n",
       "4    34386eca594b7bc2               Algorithms                     2631\n",
       "5    feb666a0b4f1d685               Algorithms                     2367\n",
       "6    b49bb8ec9c2b8481               Algorithms                     1908\n",
       "7    26c95b75d8237f39               Algorithms                     1781\n",
       "8    76fba8ff25f765b6               Algorithms                     1525\n",
       "9    425f241df843cd89               Algorithms                     1247\n",
       "10   18e0a2dad5e127d6  Artificial Intelligence                      319\n",
       "11   a9e66e4908fb003d  Artificial Intelligence                      240\n",
       "12   4258057ce615b031  Artificial Intelligence                      113\n",
       "13   3ea1501e8ebd647b  Artificial Intelligence                       80\n",
       "14   19c9320a9c5f841c  Artificial Intelligence                       73\n",
       "15   566a8b1cff4c7548  Artificial Intelligence                       63\n",
       "16   7043565902d06976  Artificial Intelligence                       61\n",
       "17   a1a634218917004f  Artificial Intelligence                       55\n",
       "18   c74e66ac0fb1e076  Artificial Intelligence                       34\n",
       "19   690eeeb4d03edc8c  Artificial Intelligence                       27\n",
       "20   8b70cbd7f8b9a2af                      C++                     1621\n",
       "21   4234a6f798992f02                      C++                      917\n",
       "22   11408b97e53ec7ed                      C++                      698\n",
       "23   07e18856d86b7b31                      C++                      683\n",
       "24   ebc21a6684955a22                      C++                      604\n",
       "25   70f890aca1fe19cb                      C++                      564\n",
       "26   b14017a1a69a0f77                      C++                      558\n",
       "27   4bdd5803ef48637a                      C++                      420\n",
       "28   a177f57b92fd38d6                      C++                      374\n",
       "29   1d7afa1b244e70c9                      C++                      311\n",
       "..                ...                      ...                      ...\n",
       "140  8bc7477c0f6b0e13                 Security                      190\n",
       "141  e5b37867e3d97548                 Security                      165\n",
       "142  20ba2aa7e96473d0                 Security                       78\n",
       "143  3fb5689cca9a4010                 Security                       56\n",
       "144  435f11927d19aa68                 Security                       49\n",
       "145  69ef77b6b1e736c1                 Security                       47\n",
       "146  a6d416e8ded4c7a8                 Security                       46\n",
       "147  32c6fc0efd61b092                 Security                       41\n",
       "148  e330d6cb9768be80                 Security                       39\n",
       "149  b8dc867b6dd40209                 Security                       28\n",
       "150  dcb76def3ced9d7b                Tutorials                     2332\n",
       "151  fd32207d8c5795ab                Tutorials                     1072\n",
       "152  4fe2da53074027da                Tutorials                     1028\n",
       "153  f62ad414720a6b8a                Tutorials                      987\n",
       "154  baae1c5a760d191f                Tutorials                      784\n",
       "155  8aadf4d7f7355fb6                Tutorials                      741\n",
       "156  0f71aee4e0c51f7c                Tutorials                      693\n",
       "157  06630624f8af0d31                Tutorials                      597\n",
       "158  fa6ea81f8219bbf0                Tutorials                      534\n",
       "159  7de92abeb686999e                Tutorials                      501\n",
       "160  e05e63bcccbafedb                       No                     2009\n",
       "161  67a1b1d6367e38ea                       No                      526\n",
       "162  8433a9019b8006cb                       No                      319\n",
       "163  5ef837b87a38262e                       No                      209\n",
       "164  236dec13a662098a                       No                      182\n",
       "165  8b812c96165a1212                       No                      120\n",
       "166  f563fe8489cc7b6b                       No                       54\n",
       "167  25a5dcb467dacca3                       No                       48\n",
       "168  e8c2bbf12c3fb8b6                       No                       37\n",
       "169  ec6b7862615ece31                       No                       36\n",
       "\n",
       "[170 rows x 3 columns]"
      ]
     },
     "execution_count": 181,
     "metadata": {},
     "output_type": "execute_result"
    }
   ],
   "source": [
    "chal3"
   ]
  },
  {
   "cell_type": "code",
   "execution_count": 182,
   "metadata": {
    "collapsed": true
   },
   "outputs": [],
   "source": [
    "s5 = pd.merge(s4,chal3,on='domain',how='inner')"
   ]
  },
  {
   "cell_type": "code",
   "execution_count": 183,
   "metadata": {
    "collapsed": false
   },
   "outputs": [
    {
     "data": {
      "text/plain": [
       "(100000, 5)"
      ]
     },
     "execution_count": 183,
     "metadata": {},
     "output_type": "execute_result"
    }
   ],
   "source": [
    "s5.shape"
   ]
  },
  {
   "cell_type": "markdown",
   "metadata": {},
   "source": [
    "## Final Result"
   ]
  },
  {
   "cell_type": "code",
   "execution_count": 184,
   "metadata": {
    "collapsed": false
   },
   "outputs": [
    {
     "data": {
      "text/html": [
       "<div>\n",
       "<table border=\"1\" class=\"dataframe\">\n",
       "  <thead>\n",
       "    <tr style=\"text-align: right;\">\n",
       "      <th></th>\n",
       "      <th>hacker_id</th>\n",
       "      <th>similar</th>\n",
       "      <th>score</th>\n",
       "    </tr>\n",
       "  </thead>\n",
       "  <tbody>\n",
       "    <tr>\n",
       "      <th>0</th>\n",
       "      <td>fffcfd13f3e0969d</td>\n",
       "      <td>659f2ceb67eca1ef</td>\n",
       "      <td>0.472289</td>\n",
       "    </tr>\n",
       "    <tr>\n",
       "      <th>1</th>\n",
       "      <td>fffcfd13f3e0969d</td>\n",
       "      <td>ad1cc7894c991bbd</td>\n",
       "      <td>0.399669</td>\n",
       "    </tr>\n",
       "    <tr>\n",
       "      <th>2</th>\n",
       "      <td>fffcfd13f3e0969d</td>\n",
       "      <td>c0af13494532539f</td>\n",
       "      <td>0.393411</td>\n",
       "    </tr>\n",
       "    <tr>\n",
       "      <th>3</th>\n",
       "      <td>fffcfd13f3e0969d</td>\n",
       "      <td>5e7c4c10a3ceab24</td>\n",
       "      <td>0.328000</td>\n",
       "    </tr>\n",
       "    <tr>\n",
       "      <th>4</th>\n",
       "      <td>fffcfd13f3e0969d</td>\n",
       "      <td>08245c18359694b1</td>\n",
       "      <td>0.292229</td>\n",
       "    </tr>\n",
       "  </tbody>\n",
       "</table>\n",
       "</div>"
      ],
      "text/plain": [
       "          hacker_id           similar     score\n",
       "0  fffcfd13f3e0969d  659f2ceb67eca1ef  0.472289\n",
       "1  fffcfd13f3e0969d  ad1cc7894c991bbd  0.399669\n",
       "2  fffcfd13f3e0969d  c0af13494532539f  0.393411\n",
       "3  fffcfd13f3e0969d  5e7c4c10a3ceab24  0.328000\n",
       "4  fffcfd13f3e0969d  08245c18359694b1  0.292229"
      ]
     },
     "execution_count": 184,
     "metadata": {},
     "output_type": "execute_result"
    }
   ],
   "source": [
    "final1.head()"
   ]
  },
  {
   "cell_type": "code",
   "execution_count": 185,
   "metadata": {
    "collapsed": false
   },
   "outputs": [
    {
     "data": {
      "text/html": [
       "<div>\n",
       "<table border=\"1\" class=\"dataframe\">\n",
       "  <thead>\n",
       "    <tr style=\"text-align: right;\">\n",
       "      <th></th>\n",
       "      <th>hacker_id</th>\n",
       "      <th>domain</th>\n",
       "      <th>count</th>\n",
       "      <th>challenge_id</th>\n",
       "      <th>solved_submission_count</th>\n",
       "    </tr>\n",
       "  </thead>\n",
       "  <tbody>\n",
       "    <tr>\n",
       "      <th>0</th>\n",
       "      <td>fffcfd13f3e0969d</td>\n",
       "      <td>Algorithms</td>\n",
       "      <td>16.0</td>\n",
       "      <td>7e860acda8697471</td>\n",
       "      <td>3769</td>\n",
       "    </tr>\n",
       "    <tr>\n",
       "      <th>1</th>\n",
       "      <td>fffcfd13f3e0969d</td>\n",
       "      <td>Algorithms</td>\n",
       "      <td>16.0</td>\n",
       "      <td>0ea21bb9feaf46c8</td>\n",
       "      <td>3572</td>\n",
       "    </tr>\n",
       "    <tr>\n",
       "      <th>2</th>\n",
       "      <td>fffcfd13f3e0969d</td>\n",
       "      <td>Algorithms</td>\n",
       "      <td>16.0</td>\n",
       "      <td>55f8a66f057a7e76</td>\n",
       "      <td>2938</td>\n",
       "    </tr>\n",
       "    <tr>\n",
       "      <th>3</th>\n",
       "      <td>fffcfd13f3e0969d</td>\n",
       "      <td>Algorithms</td>\n",
       "      <td>16.0</td>\n",
       "      <td>c9713aed1d68c5b5</td>\n",
       "      <td>2675</td>\n",
       "    </tr>\n",
       "    <tr>\n",
       "      <th>4</th>\n",
       "      <td>fffcfd13f3e0969d</td>\n",
       "      <td>Algorithms</td>\n",
       "      <td>16.0</td>\n",
       "      <td>34386eca594b7bc2</td>\n",
       "      <td>2631</td>\n",
       "    </tr>\n",
       "  </tbody>\n",
       "</table>\n",
       "</div>"
      ],
      "text/plain": [
       "          hacker_id      domain  count      challenge_id  \\\n",
       "0  fffcfd13f3e0969d  Algorithms   16.0  7e860acda8697471   \n",
       "1  fffcfd13f3e0969d  Algorithms   16.0  0ea21bb9feaf46c8   \n",
       "2  fffcfd13f3e0969d  Algorithms   16.0  55f8a66f057a7e76   \n",
       "3  fffcfd13f3e0969d  Algorithms   16.0  c9713aed1d68c5b5   \n",
       "4  fffcfd13f3e0969d  Algorithms   16.0  34386eca594b7bc2   \n",
       "\n",
       "   solved_submission_count  \n",
       "0                     3769  \n",
       "1                     3572  \n",
       "2                     2938  \n",
       "3                     2675  \n",
       "4                     2631  "
      ]
     },
     "execution_count": 185,
     "metadata": {},
     "output_type": "execute_result"
    }
   ],
   "source": [
    "s5.head()"
   ]
  },
  {
   "cell_type": "code",
   "execution_count": 186,
   "metadata": {
    "collapsed": true
   },
   "outputs": [],
   "source": [
    "s5['score'] = 0"
   ]
  },
  {
   "cell_type": "code",
   "execution_count": 187,
   "metadata": {
    "collapsed": true
   },
   "outputs": [],
   "source": [
    "s5 = s5[['hacker_id','challenge_id','score']]"
   ]
  },
  {
   "cell_type": "code",
   "execution_count": 188,
   "metadata": {
    "collapsed": false
   },
   "outputs": [
    {
     "data": {
      "text/html": [
       "<div>\n",
       "<table border=\"1\" class=\"dataframe\">\n",
       "  <thead>\n",
       "    <tr style=\"text-align: right;\">\n",
       "      <th></th>\n",
       "      <th>hacker_id</th>\n",
       "      <th>challenge_id</th>\n",
       "      <th>score</th>\n",
       "    </tr>\n",
       "  </thead>\n",
       "  <tbody>\n",
       "    <tr>\n",
       "      <th>0</th>\n",
       "      <td>fffcfd13f3e0969d</td>\n",
       "      <td>7e860acda8697471</td>\n",
       "      <td>0</td>\n",
       "    </tr>\n",
       "    <tr>\n",
       "      <th>1</th>\n",
       "      <td>fffcfd13f3e0969d</td>\n",
       "      <td>0ea21bb9feaf46c8</td>\n",
       "      <td>0</td>\n",
       "    </tr>\n",
       "    <tr>\n",
       "      <th>2</th>\n",
       "      <td>fffcfd13f3e0969d</td>\n",
       "      <td>55f8a66f057a7e76</td>\n",
       "      <td>0</td>\n",
       "    </tr>\n",
       "    <tr>\n",
       "      <th>3</th>\n",
       "      <td>fffcfd13f3e0969d</td>\n",
       "      <td>c9713aed1d68c5b5</td>\n",
       "      <td>0</td>\n",
       "    </tr>\n",
       "    <tr>\n",
       "      <th>4</th>\n",
       "      <td>fffcfd13f3e0969d</td>\n",
       "      <td>34386eca594b7bc2</td>\n",
       "      <td>0</td>\n",
       "    </tr>\n",
       "  </tbody>\n",
       "</table>\n",
       "</div>"
      ],
      "text/plain": [
       "          hacker_id      challenge_id  score\n",
       "0  fffcfd13f3e0969d  7e860acda8697471      0\n",
       "1  fffcfd13f3e0969d  0ea21bb9feaf46c8      0\n",
       "2  fffcfd13f3e0969d  55f8a66f057a7e76      0\n",
       "3  fffcfd13f3e0969d  c9713aed1d68c5b5      0\n",
       "4  fffcfd13f3e0969d  34386eca594b7bc2      0"
      ]
     },
     "execution_count": 188,
     "metadata": {},
     "output_type": "execute_result"
    }
   ],
   "source": [
    "s5.head()"
   ]
  },
  {
   "cell_type": "code",
   "execution_count": 189,
   "metadata": {
    "collapsed": true
   },
   "outputs": [],
   "source": [
    "final1=final1.rename(columns={\"similar\":\"challenge_id\"})"
   ]
  },
  {
   "cell_type": "code",
   "execution_count": 190,
   "metadata": {
    "collapsed": true
   },
   "outputs": [],
   "source": [
    "final_recom = pd.concat((s5,final1), ignore_index=True)"
   ]
  },
  {
   "cell_type": "code",
   "execution_count": 191,
   "metadata": {
    "collapsed": false
   },
   "outputs": [
    {
     "data": {
      "text/plain": [
       "(196761, 3)"
      ]
     },
     "execution_count": 191,
     "metadata": {},
     "output_type": "execute_result"
    }
   ],
   "source": [
    "final_recom.shape"
   ]
  },
  {
   "cell_type": "code",
   "execution_count": 192,
   "metadata": {
    "collapsed": false
   },
   "outputs": [],
   "source": [
    "tt = pysqldf(\"Select * from final_recom group by hacker_id,challenge_id\")"
   ]
  },
  {
   "cell_type": "code",
   "execution_count": 193,
   "metadata": {
    "collapsed": false
   },
   "outputs": [],
   "source": [
    "tt.shape\n",
    "final_recom = tt"
   ]
  },
  {
   "cell_type": "code",
   "execution_count": 194,
   "metadata": {
    "collapsed": false
   },
   "outputs": [
    {
     "data": {
      "text/plain": [
       "(167898, 3)"
      ]
     },
     "execution_count": 194,
     "metadata": {},
     "output_type": "execute_result"
    }
   ],
   "source": [
    "tt.shape"
   ]
  },
  {
   "cell_type": "code",
   "execution_count": 195,
   "metadata": {
    "collapsed": true
   },
   "outputs": [],
   "source": [
    "#final_recom = pysqldf(\"select hacker_id,challenge_id,max(score) as score from final_recom group by hacker_id,challenge_id \")"
   ]
  },
  {
   "cell_type": "code",
   "execution_count": 196,
   "metadata": {
    "collapsed": false
   },
   "outputs": [
    {
     "name": "stderr",
     "output_type": "stream",
     "text": [
      "C:\\Users\\Prashanth.S\\AppData\\Local\\Continuum\\Anaconda2\\lib\\site-packages\\ipykernel\\__main__.py:1: FutureWarning: sort(columns=....) is deprecated, use sort_values(by=.....)\n",
      "  if __name__ == '__main__':\n"
     ]
    }
   ],
   "source": [
    "final_recom = final_recom.sort(['hacker_id','score'], ascending=[False,False]) "
   ]
  },
  {
   "cell_type": "code",
   "execution_count": 197,
   "metadata": {
    "collapsed": false
   },
   "outputs": [
    {
     "data": {
      "text/html": [
       "<div>\n",
       "<table border=\"1\" class=\"dataframe\">\n",
       "  <thead>\n",
       "    <tr style=\"text-align: right;\">\n",
       "      <th></th>\n",
       "      <th>hacker_id</th>\n",
       "      <th>challenge_id</th>\n",
       "      <th>score</th>\n",
       "    </tr>\n",
       "  </thead>\n",
       "  <tbody>\n",
       "    <tr>\n",
       "      <th>167887</th>\n",
       "      <td>fffcfd13f3e0969d</td>\n",
       "      <td>659f2ceb67eca1ef</td>\n",
       "      <td>0.472289</td>\n",
       "    </tr>\n",
       "    <tr>\n",
       "      <th>167891</th>\n",
       "      <td>fffcfd13f3e0969d</td>\n",
       "      <td>ad1cc7894c991bbd</td>\n",
       "      <td>0.399669</td>\n",
       "    </tr>\n",
       "    <tr>\n",
       "      <th>167893</th>\n",
       "      <td>fffcfd13f3e0969d</td>\n",
       "      <td>c0af13494532539f</td>\n",
       "      <td>0.393411</td>\n",
       "    </tr>\n",
       "    <tr>\n",
       "      <th>167886</th>\n",
       "      <td>fffcfd13f3e0969d</td>\n",
       "      <td>5e7c4c10a3ceab24</td>\n",
       "      <td>0.328000</td>\n",
       "    </tr>\n",
       "    <tr>\n",
       "      <th>167879</th>\n",
       "      <td>fffcfd13f3e0969d</td>\n",
       "      <td>08245c18359694b1</td>\n",
       "      <td>0.292229</td>\n",
       "    </tr>\n",
       "  </tbody>\n",
       "</table>\n",
       "</div>"
      ],
      "text/plain": [
       "               hacker_id      challenge_id     score\n",
       "167887  fffcfd13f3e0969d  659f2ceb67eca1ef  0.472289\n",
       "167891  fffcfd13f3e0969d  ad1cc7894c991bbd  0.399669\n",
       "167893  fffcfd13f3e0969d  c0af13494532539f  0.393411\n",
       "167886  fffcfd13f3e0969d  5e7c4c10a3ceab24  0.328000\n",
       "167879  fffcfd13f3e0969d  08245c18359694b1  0.292229"
      ]
     },
     "execution_count": 197,
     "metadata": {},
     "output_type": "execute_result"
    }
   ],
   "source": [
    "final_recom.head()"
   ]
  },
  {
   "cell_type": "code",
   "execution_count": 198,
   "metadata": {
    "collapsed": false
   },
   "outputs": [],
   "source": [
    "final_recom1=final_recom.groupby('hacker_id').head(10).reset_index(drop=True)"
   ]
  },
  {
   "cell_type": "code",
   "execution_count": 199,
   "metadata": {
    "collapsed": false
   },
   "outputs": [
    {
     "data": {
      "text/html": [
       "<div>\n",
       "<table border=\"1\" class=\"dataframe\">\n",
       "  <thead>\n",
       "    <tr style=\"text-align: right;\">\n",
       "      <th></th>\n",
       "      <th>hacker_id</th>\n",
       "      <th>challenge_id</th>\n",
       "      <th>score</th>\n",
       "    </tr>\n",
       "  </thead>\n",
       "  <tbody>\n",
       "    <tr>\n",
       "      <th>0</th>\n",
       "      <td>fffcfd13f3e0969d</td>\n",
       "      <td>659f2ceb67eca1ef</td>\n",
       "      <td>0.472289</td>\n",
       "    </tr>\n",
       "    <tr>\n",
       "      <th>1</th>\n",
       "      <td>fffcfd13f3e0969d</td>\n",
       "      <td>ad1cc7894c991bbd</td>\n",
       "      <td>0.399669</td>\n",
       "    </tr>\n",
       "    <tr>\n",
       "      <th>2</th>\n",
       "      <td>fffcfd13f3e0969d</td>\n",
       "      <td>c0af13494532539f</td>\n",
       "      <td>0.393411</td>\n",
       "    </tr>\n",
       "    <tr>\n",
       "      <th>3</th>\n",
       "      <td>fffcfd13f3e0969d</td>\n",
       "      <td>5e7c4c10a3ceab24</td>\n",
       "      <td>0.328000</td>\n",
       "    </tr>\n",
       "    <tr>\n",
       "      <th>4</th>\n",
       "      <td>fffcfd13f3e0969d</td>\n",
       "      <td>08245c18359694b1</td>\n",
       "      <td>0.292229</td>\n",
       "    </tr>\n",
       "  </tbody>\n",
       "</table>\n",
       "</div>"
      ],
      "text/plain": [
       "          hacker_id      challenge_id     score\n",
       "0  fffcfd13f3e0969d  659f2ceb67eca1ef  0.472289\n",
       "1  fffcfd13f3e0969d  ad1cc7894c991bbd  0.399669\n",
       "2  fffcfd13f3e0969d  c0af13494532539f  0.393411\n",
       "3  fffcfd13f3e0969d  5e7c4c10a3ceab24  0.328000\n",
       "4  fffcfd13f3e0969d  08245c18359694b1  0.292229"
      ]
     },
     "execution_count": 199,
     "metadata": {},
     "output_type": "execute_result"
    }
   ],
   "source": [
    "final_recom1.head()"
   ]
  },
  {
   "cell_type": "code",
   "execution_count": 200,
   "metadata": {
    "collapsed": true
   },
   "outputs": [],
   "source": [
    "final_recom1['sequence'] = final_recom1.groupby('hacker_id').cumcount()"
   ]
  },
  {
   "cell_type": "code",
   "execution_count": 201,
   "metadata": {
    "collapsed": false
   },
   "outputs": [
    {
     "data": {
      "text/html": [
       "<div>\n",
       "<table border=\"1\" class=\"dataframe\">\n",
       "  <thead>\n",
       "    <tr style=\"text-align: right;\">\n",
       "      <th></th>\n",
       "      <th>hacker_id</th>\n",
       "      <th>challenge_id</th>\n",
       "      <th>score</th>\n",
       "      <th>sequence</th>\n",
       "    </tr>\n",
       "  </thead>\n",
       "  <tbody>\n",
       "    <tr>\n",
       "      <th>0</th>\n",
       "      <td>fffcfd13f3e0969d</td>\n",
       "      <td>659f2ceb67eca1ef</td>\n",
       "      <td>0.472289</td>\n",
       "      <td>0</td>\n",
       "    </tr>\n",
       "    <tr>\n",
       "      <th>1</th>\n",
       "      <td>fffcfd13f3e0969d</td>\n",
       "      <td>ad1cc7894c991bbd</td>\n",
       "      <td>0.399669</td>\n",
       "      <td>1</td>\n",
       "    </tr>\n",
       "    <tr>\n",
       "      <th>2</th>\n",
       "      <td>fffcfd13f3e0969d</td>\n",
       "      <td>c0af13494532539f</td>\n",
       "      <td>0.393411</td>\n",
       "      <td>2</td>\n",
       "    </tr>\n",
       "    <tr>\n",
       "      <th>3</th>\n",
       "      <td>fffcfd13f3e0969d</td>\n",
       "      <td>5e7c4c10a3ceab24</td>\n",
       "      <td>0.328000</td>\n",
       "      <td>3</td>\n",
       "    </tr>\n",
       "    <tr>\n",
       "      <th>4</th>\n",
       "      <td>fffcfd13f3e0969d</td>\n",
       "      <td>08245c18359694b1</td>\n",
       "      <td>0.292229</td>\n",
       "      <td>4</td>\n",
       "    </tr>\n",
       "  </tbody>\n",
       "</table>\n",
       "</div>"
      ],
      "text/plain": [
       "          hacker_id      challenge_id     score  sequence\n",
       "0  fffcfd13f3e0969d  659f2ceb67eca1ef  0.472289         0\n",
       "1  fffcfd13f3e0969d  ad1cc7894c991bbd  0.399669         1\n",
       "2  fffcfd13f3e0969d  c0af13494532539f  0.393411         2\n",
       "3  fffcfd13f3e0969d  5e7c4c10a3ceab24  0.328000         3\n",
       "4  fffcfd13f3e0969d  08245c18359694b1  0.292229         4"
      ]
     },
     "execution_count": 201,
     "metadata": {},
     "output_type": "execute_result"
    }
   ],
   "source": [
    "final_recom1.head()"
   ]
  },
  {
   "cell_type": "code",
   "execution_count": 202,
   "metadata": {
    "collapsed": false
   },
   "outputs": [
    {
     "data": {
      "text/plain": [
       "(100000, 4)"
      ]
     },
     "execution_count": 202,
     "metadata": {},
     "output_type": "execute_result"
    }
   ],
   "source": [
    "final_recom1.shape"
   ]
  },
  {
   "cell_type": "code",
   "execution_count": 203,
   "metadata": {
    "collapsed": true
   },
   "outputs": [],
   "source": [
    "final_recom2 = final_recom1[['hacker_id','challenge_id','sequence']]"
   ]
  },
  {
   "cell_type": "code",
   "execution_count": 204,
   "metadata": {
    "collapsed": true
   },
   "outputs": [],
   "source": [
    "final_recom3 = final_recom2.pivot(index='hacker_id',columns='sequence',values='challenge_id')"
   ]
  },
  {
   "cell_type": "code",
   "execution_count": 205,
   "metadata": {
    "collapsed": false
   },
   "outputs": [
    {
     "data": {
      "text/html": [
       "<div>\n",
       "<table border=\"1\" class=\"dataframe\">\n",
       "  <thead>\n",
       "    <tr style=\"text-align: right;\">\n",
       "      <th>sequence</th>\n",
       "      <th>0</th>\n",
       "      <th>1</th>\n",
       "      <th>2</th>\n",
       "      <th>3</th>\n",
       "      <th>4</th>\n",
       "      <th>5</th>\n",
       "      <th>6</th>\n",
       "      <th>7</th>\n",
       "      <th>8</th>\n",
       "      <th>9</th>\n",
       "    </tr>\n",
       "    <tr>\n",
       "      <th>hacker_id</th>\n",
       "      <th></th>\n",
       "      <th></th>\n",
       "      <th></th>\n",
       "      <th></th>\n",
       "      <th></th>\n",
       "      <th></th>\n",
       "      <th></th>\n",
       "      <th></th>\n",
       "      <th></th>\n",
       "      <th></th>\n",
       "    </tr>\n",
       "  </thead>\n",
       "  <tbody>\n",
       "    <tr>\n",
       "      <th>00004cf8b853ad0d</th>\n",
       "      <td>4e1bd7090485fcd9</td>\n",
       "      <td>cf7aec14125de538</td>\n",
       "      <td>3411e4e6add2b8e4</td>\n",
       "      <td>366684b779574e86</td>\n",
       "      <td>0b33fa0e17628ec9</td>\n",
       "      <td>c3647a9292e553b9</td>\n",
       "      <td>92cce56cc5c0089a</td>\n",
       "      <td>daca00e89ba40904</td>\n",
       "      <td>f144c87d3373f146</td>\n",
       "      <td>57e42b888551c3de</td>\n",
       "    </tr>\n",
       "    <tr>\n",
       "      <th>00010020d9cd62a0</th>\n",
       "      <td>4e1bd7090485fcd9</td>\n",
       "      <td>4555b35815f98db1</td>\n",
       "      <td>cf7aec14125de538</td>\n",
       "      <td>5ab3318dace74797</td>\n",
       "      <td>675f4fb2c8518346</td>\n",
       "      <td>9580a525da7618e9</td>\n",
       "      <td>aab8b2196708baf0</td>\n",
       "      <td>3411e4e6add2b8e4</td>\n",
       "      <td>5d3e461f19869d08</td>\n",
       "      <td>5e85f62bcbb42ea2</td>\n",
       "    </tr>\n",
       "    <tr>\n",
       "      <th>000c08c3a6f1ee15</th>\n",
       "      <td>34386eca594b7bc2</td>\n",
       "      <td>b49bb8ec9c2b8481</td>\n",
       "      <td>4e07173c3bba48d2</td>\n",
       "      <td>659f2ceb67eca1ef</td>\n",
       "      <td>26c95b75d8237f39</td>\n",
       "      <td>5e85f62bcbb42ea2</td>\n",
       "      <td>6ed2a6b18d1ac4e4</td>\n",
       "      <td>9580a525da7618e9</td>\n",
       "      <td>ad1cc7894c991bbd</td>\n",
       "      <td>c0af13494532539f</td>\n",
       "    </tr>\n",
       "    <tr>\n",
       "      <th>000d0dde89911c9f</th>\n",
       "      <td>4e07173c3bba48d2</td>\n",
       "      <td>26c95b75d8237f39</td>\n",
       "      <td>76fba8ff25f765b6</td>\n",
       "      <td>9580a525da7618e9</td>\n",
       "      <td>659f2ceb67eca1ef</td>\n",
       "      <td>feb666a0b4f1d685</td>\n",
       "      <td>ad1cc7894c991bbd</td>\n",
       "      <td>c0af13494532539f</td>\n",
       "      <td>08245c18359694b1</td>\n",
       "      <td>34386eca594b7bc2</td>\n",
       "    </tr>\n",
       "    <tr>\n",
       "      <th>000d3364ba25d742</th>\n",
       "      <td>650622546905d47d</td>\n",
       "      <td>276b73dcc8c42154</td>\n",
       "      <td>8285124a300bdedf</td>\n",
       "      <td>50253c16f58cb013</td>\n",
       "      <td>2a19000bc75c0782</td>\n",
       "      <td>e1ca1935242d2941</td>\n",
       "      <td>69072dc0ff492888</td>\n",
       "      <td>2963acac637dbbd5</td>\n",
       "      <td>d8cb09b1f7696f01</td>\n",
       "      <td>46592c29655cfc5e</td>\n",
       "    </tr>\n",
       "  </tbody>\n",
       "</table>\n",
       "</div>"
      ],
      "text/plain": [
       "sequence                         0                 1                 2  \\\n",
       "hacker_id                                                                \n",
       "00004cf8b853ad0d  4e1bd7090485fcd9  cf7aec14125de538  3411e4e6add2b8e4   \n",
       "00010020d9cd62a0  4e1bd7090485fcd9  4555b35815f98db1  cf7aec14125de538   \n",
       "000c08c3a6f1ee15  34386eca594b7bc2  b49bb8ec9c2b8481  4e07173c3bba48d2   \n",
       "000d0dde89911c9f  4e07173c3bba48d2  26c95b75d8237f39  76fba8ff25f765b6   \n",
       "000d3364ba25d742  650622546905d47d  276b73dcc8c42154  8285124a300bdedf   \n",
       "\n",
       "sequence                         3                 4                 5  \\\n",
       "hacker_id                                                                \n",
       "00004cf8b853ad0d  366684b779574e86  0b33fa0e17628ec9  c3647a9292e553b9   \n",
       "00010020d9cd62a0  5ab3318dace74797  675f4fb2c8518346  9580a525da7618e9   \n",
       "000c08c3a6f1ee15  659f2ceb67eca1ef  26c95b75d8237f39  5e85f62bcbb42ea2   \n",
       "000d0dde89911c9f  9580a525da7618e9  659f2ceb67eca1ef  feb666a0b4f1d685   \n",
       "000d3364ba25d742  50253c16f58cb013  2a19000bc75c0782  e1ca1935242d2941   \n",
       "\n",
       "sequence                         6                 7                 8  \\\n",
       "hacker_id                                                                \n",
       "00004cf8b853ad0d  92cce56cc5c0089a  daca00e89ba40904  f144c87d3373f146   \n",
       "00010020d9cd62a0  aab8b2196708baf0  3411e4e6add2b8e4  5d3e461f19869d08   \n",
       "000c08c3a6f1ee15  6ed2a6b18d1ac4e4  9580a525da7618e9  ad1cc7894c991bbd   \n",
       "000d0dde89911c9f  ad1cc7894c991bbd  c0af13494532539f  08245c18359694b1   \n",
       "000d3364ba25d742  69072dc0ff492888  2963acac637dbbd5  d8cb09b1f7696f01   \n",
       "\n",
       "sequence                         9  \n",
       "hacker_id                           \n",
       "00004cf8b853ad0d  57e42b888551c3de  \n",
       "00010020d9cd62a0  5e85f62bcbb42ea2  \n",
       "000c08c3a6f1ee15  c0af13494532539f  \n",
       "000d0dde89911c9f  34386eca594b7bc2  \n",
       "000d3364ba25d742  46592c29655cfc5e  "
      ]
     },
     "execution_count": 205,
     "metadata": {},
     "output_type": "execute_result"
    }
   ],
   "source": [
    "final_recom3.head()"
   ]
  },
  {
   "cell_type": "code",
   "execution_count": 206,
   "metadata": {
    "collapsed": true
   },
   "outputs": [],
   "source": [
    "final_recom3.to_csv('final_result_dummy_last.csv',header=False)"
   ]
  },
  {
   "cell_type": "code",
   "execution_count": null,
   "metadata": {
    "collapsed": true
   },
   "outputs": [],
   "source": []
  }
 ],
 "metadata": {
  "anaconda-cloud": {},
  "kernelspec": {
   "display_name": "Python [Root]",
   "language": "python",
   "name": "Python [Root]"
  },
  "language_info": {
   "codemirror_mode": {
    "name": "ipython",
    "version": 2
   },
   "file_extension": ".py",
   "mimetype": "text/x-python",
   "name": "python",
   "nbconvert_exporter": "python",
   "pygments_lexer": "ipython2",
   "version": "2.7.12"
  }
 },
 "nbformat": 4,
 "nbformat_minor": 0
}
